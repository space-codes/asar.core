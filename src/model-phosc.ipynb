{
 "cells": [
  {
   "cell_type": "code",
   "execution_count": null,
   "id": "a7259d79",
   "metadata": {},
   "outputs": [],
   "source": [
    "from tensorflow.keras import Model\n",
    "from tensorflow.keras.layers import Dense, Dropout, MaxPooling2D, Flatten, Input, Conv2D\n",
    "from tensorflow.keras.models import load_model, Sequential\n",
    "from tensorflow.keras import losses\n",
    "from tensorflow.keras import backend as K\n",
    "import matplotlib.pyplot as plt\n",
    "from tensorflow_addons.layers import SpatialPyramidPooling2D\n",
    "import numpy as np\n",
    "from imageio import imread\n",
    "import pandas as pd\n",
    "import math\n",
    "import os\n",
    "import tensorflow\n",
    "from tensorflow.keras.utils import Sequence\n",
    "from tensorflow.keras.preprocessing.image import img_to_array, ImageDataGenerator, load_img\n",
    "import random\n",
    "import sys"
   ]
  },
  {
   "cell_type": "code",
   "execution_count": null,
   "id": "4b4a3f8b",
   "metadata": {},
   "outputs": [],
   "source": [
    "old_stdout = sys.stdout\n",
    "log_file = open(\"phosc-training.log\",\"w\")\n",
    "sys.stdout = log_file"
   ]
  },
  {
   "cell_type": "code",
   "execution_count": null,
   "id": "428019b6",
   "metadata": {
    "lines_to_next_cell": 1
   },
   "outputs": [],
   "source": [
    "# DataSequence class to pass data(images/vector) in batches\n",
    "class DataSequence(Sequence):\n",
    "    def __init__(self, imagefiles, phoslabels, phoclabels, batch_size):\n",
    "        self.bsz = batch_size  # batch size\n",
    "\n",
    "        # Take labels and a list of image locations in memory\n",
    "        self.labels = []\n",
    "        for phos, phoc in zip(phoslabels, phoclabels):\n",
    "            self.labels.append({\"phosnet\": np.asarray(phos).astype(np.float32),\n",
    "                                \"phocnet\": np.asarray(phoc).astype(np.float32)})\n",
    "        self.im_list = imagefiles\n",
    "\n",
    "    def __len__(self):\n",
    "        # compute number of batches to yield\n",
    "        return int(math.ceil(len(self.im_list) / float(self.bsz)))\n",
    "\n",
    "    def on_epoch_end(self):\n",
    "        # Shuffles indexes after each epoch if in training mode\n",
    "        self.indexes = range(len(self.im_list))\n",
    "        self.indexes = random.sample(self.indexes, k=len(self.indexes))\n",
    "\n",
    "    def get_batch_labels(self, idx):\n",
    "        # Fetch a batch of labels\n",
    "        return np.array(self.labels[idx * self.bsz: (idx + 1) * self.bsz])\n",
    "\n",
    "    def get_batch_features(self, idx):\n",
    "        # Fetch a batch of inputs\n",
    "        return np.array([img_to_array(load_img(im, target_size=(110, 110))) for im in self.im_list[idx * self.bsz: (1 + idx) * self.bsz]])\n",
    "\n",
    "    def __getitem__(self, idx):\n",
    "        batch_x = self.get_batch_features(idx)\n",
    "        batch_y = self.get_batch_labels(idx)\n",
    "        l1 = []\n",
    "        l2 = []\n",
    "        for x in batch_y:\n",
    "            l1.append(x['phosnet'])\n",
    "            l2.append(x['phocnet'])\n",
    "        # return batch_x, batch_y\n",
    "        return batch_x, {'phosnet': np.asarray(l1), 'phocnet': np.asarray(l2)}"
   ]
  },
  {
   "cell_type": "code",
   "execution_count": null,
   "id": "0f445cbb",
   "metadata": {
    "lines_to_next_cell": 1
   },
   "outputs": [],
   "source": [
    "def base_model(img_width, img_height, weight_path=None):\n",
    "    if K.image_data_format() == 'channels_first':\n",
    "        input_shapes = (3, img_width, img_height)\n",
    "    else:\n",
    "        input_shapes = (img_width, img_height, 3)\n",
    "    inp = Input(shape=input_shapes)\n",
    "    model = Conv2D(64, (3, 3), padding='same', activation='relu')(inp)\n",
    "    model = Conv2D(64, (3, 3), padding='same', activation='relu')(model)\n",
    "    model = (MaxPooling2D(pool_size=(2, 2), strides=2))(model)\n",
    "    model = (Conv2D(128, (3, 3), padding='same', activation='relu'))(model)\n",
    "    model = (Conv2D(128, (3, 3), padding='same', activation='relu'))(model)\n",
    "    model = (MaxPooling2D(pool_size=(2, 2), strides=2))(model)\n",
    "    model = (Conv2D(256, (3, 3), padding='same', activation='relu'))(model)\n",
    "    model = (Conv2D(256, (3, 3), padding='same', activation='relu'))(model)\n",
    "    model = (Conv2D(256, (3, 3), padding='same', activation='relu'))(model)\n",
    "    model = (Conv2D(256, (3, 3), padding='same', activation='relu'))(model)\n",
    "    model = (Conv2D(256, (3, 3), padding='same', activation='relu'))(model)\n",
    "    model = (Conv2D(256, (3, 3), padding='same', activation='relu'))(model)\n",
    "    model = (Conv2D(512, (3, 3), padding='same', activation='relu'))(model)\n",
    "    model = (Conv2D(512, (3, 3), padding='same', activation='relu'))(model)\n",
    "    model = (Conv2D(512, (3, 3), padding='same', activation='relu'))(model)\n",
    "    model = (SpatialPyramidPooling2D([1, 2, 4]))(model)\n",
    "    model = (Flatten())(model)\n",
    "\n",
    "    phosnet_op = Dense(4096, activation='relu')(model)\n",
    "    phosnet_op = Dropout(0.5)(phosnet_op)\n",
    "    phosnet_op = Dense(4096, activation='relu')(phosnet_op)\n",
    "    phosnet_op = Dropout(0.5)(phosnet_op)\n",
    "    phosnet_op = Dense(270, activation='relu', name=\"phosnet\")(phosnet_op)\n",
    "\n",
    "    phocnet = Dense(4096, activation='relu')(model)\n",
    "    phocnet = Dropout(0.5)(phocnet)\n",
    "    phocnet = Dense(4096, activation='relu')(phocnet)\n",
    "    phocnet = Dropout(0.5)(phocnet)\n",
    "    phocnet = Dense(830, activation='sigmoid', name=\"phocnet\")(phocnet)\n",
    "\n",
    "    model = Model(inputs=inp, outputs=[phosnet_op, phocnet])\n",
    "    losses = {\n",
    "        \"phosnet\": tensorflow.keras.losses.MSE,\n",
    "        \"phocnet\": 'binary_crossentropy',\n",
    "    }\n",
    "    lossWeights = {\"phosnet\": 1.5, \"phocnet\": 4.5}\n",
    "    # initialize the optimizer and compile the model\n",
    "\n",
    "    opt = tensorflow.keras.optimizers.Adam(learning_rate=1e-4, decay=5e-5)\n",
    "    model.compile(optimizer=opt, loss=losses, loss_weights=lossWeights,\n",
    "                  metrics=[tensorflow.keras.metrics.CosineSimilarity(axis=1)])\n",
    "    if weight_path:\n",
    "        df = pd.read_pickle(weight_path)\n",
    "        tmp_weights = df.values\n",
    "        N = len(tmp_weights)\n",
    "        weights = []\n",
    "        for i in range(N):\n",
    "            weights.append(tmp_weights[i][0])\n",
    "        model.set_weights(weights)\n",
    "\n",
    "    model.summary()\n",
    "    from keras.utils.vis_utils import plot_model as plot\n",
    "\n",
    "    plot(model, to_file=\"phoscnet.png\", show_shapes=True)\n",
    "    return model"
   ]
  },
  {
   "cell_type": "markdown",
   "id": "6f6717a3-4fec-4473-a68e-1827b8380f13",
   "metadata": {
    "nteract": {
     "transient": {
      "deleting": false
     }
    }
   },
   "source": [
    "# PHOC Label generator"
   ]
  },
  {
   "cell_type": "code",
   "execution_count": null,
   "id": "5bdc3093-eab0-4981-89ae-65ecbce29688",
   "metadata": {
    "jupyter": {
     "outputs_hidden": false,
     "source_hidden": false
    },
    "nteract": {
     "transient": {
      "deleting": false
     }
    }
   },
   "outputs": [],
   "source": [
    "'''This code will take an input word as in string and will\n",
    "output the PHOC label of the word. The Phoc label is a\n",
    "vector of length 3784.\n",
    "((2 + 3 + 4 + 5) * languageCharactersAndNumbersCount) + (2*commonBigram)\n",
    "((2+3+4+5) * 256) + (2*100) = 3784\n",
    "((2+3+4+5) * 45) + (2*100) = 830\n",
    "Reference: https://ieeexplore.ieee.org/document/6857995/?part=1\n",
    "'''\n",
    "\n",
    "def generate_45(word):\n",
    "  '''The vector is a binary and stands for:\n",
    "  https://en.wikipedia.org/wiki/Arabic_script_in_Unicode\n",
    "  arabic unicode characters is 256\n",
    "  '''\n",
    "  generate_45 = [0 for i in range(45)]\n",
    "  for char in word:\n",
    "      generate_45[ord(char) - ord('ا')] = 1\n",
    "\n",
    "  return generate_45\n",
    "\n",
    "def generate_100(word):\n",
    "  '''This vector is going to count the number of most frequent\n",
    "  bigram words found in the text\n",
    "  '''\n",
    "\n",
    "  bigram = ['لم', 'لل', 'ين', 'لت', 'لي', 'يت', 'لع', 'هم', 'لن', 'تم', 'في', 'عل',\n",
    "            'لب', 'ست', 'بي', 'يم', 'مت', 'ته', 'لح', 'لق', 'ما', 'لف', 'من', 'ها',\n",
    "            'له', 'كم', 'يس', 'مل', 'بت', 'لك', 'نا', 'لس', 'يب', 'بع', 'مس', 'سب',\n",
    "            'يع', 'تح', 'يل', 'فت', 'فل', 'مع', 'تع', 'لا', 'تن', 'تب', 'يح', 'يه',\n",
    "            'لج', 'فع', 'سم', 'تق', 'لش', 'ير', 'ني', 'يك', 'لو', 'مي', 'بم', 'نف',\n",
    "            'مح', 'تف', 'عن', 'لخ', 'سي', 'يق', 'قت', 'يف', 'حي', 'نص', 'عم', 'جم',\n",
    "            'به', 'بل', 'كت', 'نه', 'صي', 'نت', 'نق', 'تل', 'خل', 'لغ', 'لص', 'تك',\n",
    "            'با', 'تس', 'يا', 'نب', 'قب', 'مو', 'حم', 'عت', 'قل', 'يخ', 'عي', 'قي',\n",
    "            'مه', 'نس', 'تا', 'سن']\n",
    "\n",
    "  vector_100 = [0 for i in range(100)]\n",
    "  for char in word:\n",
    "    try:\n",
    "      vector_100[bigram.index(char)] = 1\n",
    "    except:\n",
    "      continue\n",
    "\n",
    "  return vector_100\n",
    "\n",
    "def generate_label(word):\n",
    "  word = word.lower()\n",
    "  vector = []\n",
    "  L = len(word)\n",
    "  for split in range(2, 6):\n",
    "    parts = L//split\n",
    "    for mul in range(split-1):\n",
    "      vector += generate_45(word[mul*parts:mul*parts+parts])\n",
    "    vector += generate_45(word[(split-1)*parts:L])\n",
    "\n",
    "  # Append the most common 100 bigram text using L2 split\n",
    "  vector += generate_100(word[0:L//2])\n",
    "  vector += generate_100(word[L//2: L])\n",
    "  return vector"
   ]
  },
  {
   "cell_type": "markdown",
   "id": "a4cbfaa5-ebc8-4167-9743-66fd221394fb",
   "metadata": {
    "nteract": {
     "transient": {
      "deleting": false
     }
    }
   },
   "source": [
    "# PHOS Label generator"
   ]
  },
  {
   "cell_type": "code",
   "execution_count": null,
   "id": "cea16ac5-6f00-4942-ab2f-ee1f29534264",
   "metadata": {
    "jupyter": {
     "outputs_hidden": false,
     "source_hidden": false
    },
    "nteract": {
     "transient": {
      "deleting": false
     }
    }
   },
   "outputs": [],
   "source": [
    "import csv\n",
    "\n",
    "# Input: CSV file name that has shape counts for each alphabet\n",
    "# Output: Number of shapes/columns\n",
    "\n",
    "def get_number_of_columns(csv_file):\n",
    "    with open(csv_file, encoding='UTF-8-sig') as file:\n",
    "        reader = csv.reader(file, delimiter=',', skipinitialspace=True)\n",
    "        return len(next(reader))-1\n",
    "\n",
    "\n",
    "# Input: CSV file name that has shape counts for each alphabet\n",
    "# Output: A dictionary where alphabet is key mapped to its shape count vector(np-array)\n",
    "\n",
    "def create_alphabet_dictionary(csv_file):\n",
    "    alphabet_dict = dict()\n",
    "\n",
    "    with open(csv_file, encoding='UTF-8-sig') as file:\n",
    "        reader = csv.reader(file, delimiter=',', skipinitialspace=True)\n",
    "\n",
    "        for index, line in enumerate(reader):\n",
    "            alphabet_dict[line[0]] = index\n",
    "\n",
    "    return alphabet_dict\n",
    "\n",
    "alphabet_csv = \"Arabic_alphabet.csv\"\n",
    "\n",
    "alphabet_dict = create_alphabet_dictionary(alphabet_csv)\n",
    "csv_num_cols = get_number_of_columns(alphabet_csv)\n",
    "numpy_csv = np.genfromtxt(alphabet_csv, dtype=int, delimiter=\",\")\n",
    "numpy_csv=np.delete(numpy_csv,0,1)\n",
    "\n",
    "# Input: A word segment(string)\n",
    "# Output: A shape count vector for all alphabets in input word segment (np-array)\n",
    "\n",
    "def word_vector(word):\n",
    "    vector = np.zeros(csv_num_cols)\n",
    "    for letter in word:\n",
    "        letter_index = alphabet_dict[letter]\n",
    "        vector += numpy_csv[letter_index]\n",
    "    return vector\n",
    "\n",
    "# Input: A word(string) \n",
    "# Output: PHOS vector\n",
    "\n",
    "def phos_generate_label(word):\n",
    "    vector = word_vector(word)\n",
    "    L = len(word)\n",
    "    for split in range(2, 6):\n",
    "        parts = L//split\n",
    "        for mul in range(split-1):\n",
    "            vector=np.concatenate((vector,word_vector(word[mul*parts:mul*parts+parts])),axis=0)\n",
    "        vector=np.concatenate((vector,word_vector(word[(split-1)*parts:L])),axis=0)\n",
    "    return vector\n",
    "\n",
    "# Input: A list of words(strings)\n",
    "# Output: A dictionary of PHOS vectors in which the words serve as the key\n",
    "\n",
    "def gen_label(word_list):\n",
    "    label={}\n",
    "    for word in word_list:\n",
    "        label[word]=phos_generate_label(word)\n",
    "    return label\n",
    "\n",
    "\n",
    "# Input: A text file name that has a list of words(strings)\n",
    "# Output: A dictionary of PHOS vectors in which the words serve as the key\n",
    "\n",
    "def label_maker(word_txt):\n",
    "    label={}\n",
    "    with open(word_txt, \"r\") as file:\n",
    "        for word_index, line in enumerate(file):\n",
    "            word = line.split()[0]\n",
    "            label[word]=phos_generate_label(word)\n",
    "    return label\n",
    "    #write_s_file(s_matrix_csv, s_matrix, word_list)\n"
   ]
  },
  {
   "cell_type": "code",
   "execution_count": null,
   "id": "87948eba",
   "metadata": {
    "lines_to_next_cell": 1
   },
   "outputs": [],
   "source": [
    "def get_generator_value(class_indicates, index):\n",
    "    key_list = list(class_indicates.keys())\n",
    "    val_list = list(class_indicates.values())\n",
    "    return key_list[val_list.index(index)]"
   ]
  },
  {
   "cell_type": "code",
   "execution_count": null,
   "id": "9772302a",
   "metadata": {},
   "outputs": [],
   "source": [
    "train_path = 'asar-dataset/train'\n",
    "test_path = 'asar-dataset/test'\n",
    "val_path = 'asar-dataset/val'"
   ]
  },
  {
   "cell_type": "code",
   "execution_count": null,
   "id": "411adbe3",
   "metadata": {},
   "outputs": [],
   "source": [
    "train_datagen = ImageDataGenerator()"
   ]
  },
  {
   "cell_type": "code",
   "execution_count": null,
   "id": "b3bd682e",
   "metadata": {},
   "outputs": [],
   "source": [
    "#val_datagen = ImageDataGenerator(rescale=1. / 255.)\n",
    "val_datagen = ImageDataGenerator()"
   ]
  },
  {
   "cell_type": "code",
   "execution_count": null,
   "id": "4a9e724d",
   "metadata": {},
   "outputs": [],
   "source": [
    "test_datagen = ImageDataGenerator()"
   ]
  },
  {
   "cell_type": "code",
   "execution_count": null,
   "id": "4f574b25",
   "metadata": {},
   "outputs": [],
   "source": [
    "train_generator = train_datagen.flow_from_directory(\n",
    "        # This is the target directory\n",
    "        train_path,\n",
    "        shuffle= False,\n",
    "        # All images will be resized to 150x150\n",
    "        target_size=(16, 16),\n",
    "        batch_size=1,\n",
    "        # binary: use binary_crossentropy loss, we need binary labels\n",
    "        # categorical : use categorical_crossentropy loss, then need categorical labels\n",
    "        class_mode='binary')"
   ]
  },
  {
   "cell_type": "code",
   "execution_count": null,
   "id": "d608d994",
   "metadata": {},
   "outputs": [],
   "source": [
    "val_generator = val_datagen.flow_from_directory(\n",
    "        # This is the target directory\n",
    "        val_path,\n",
    "        shuffle= False,\n",
    "        target_size=(16, 16),\n",
    "        batch_size=1,\n",
    "        class_mode='binary')"
   ]
  },
  {
   "cell_type": "code",
   "execution_count": null,
   "id": "018aea7d",
   "metadata": {},
   "outputs": [],
   "source": [
    "test_generator = test_datagen.flow_from_directory(\n",
    "        test_path,\n",
    "        shuffle= False,\n",
    "        target_size=(16, 16),\n",
    "        batch_size=1,\n",
    "        class_mode='binary')"
   ]
  },
  {
   "cell_type": "code",
   "execution_count": null,
   "id": "9bf5413d",
   "metadata": {},
   "outputs": [],
   "source": [
    "train_generator.reset()\n",
    "y_train = train_generator.labels\n",
    "X_train_files = [train_path + '/' + filename for filename in train_generator.filenames]\n",
    "\n",
    "val_generator.reset()\n",
    "y_val = val_generator.labels\n",
    "X_val_files = [val_path + '/' + filename for filename in val_generator.filenames]\n",
    "\n",
    "test_generator.reset()\n",
    "y_test = test_generator.labels\n",
    "X_test_files = [test_path + '/' + filename for filename in test_generator.filenames]"
   ]
  },
  {
   "cell_type": "code",
   "execution_count": null,
   "id": "fef786c2",
   "metadata": {},
   "outputs": [],
   "source": [
    "# num_of_classes = len(train_generator.class_indices)\n",
    "# test_transcripts = [get_generator_value(test_generator.class_indices, int(i)) for i in y_test]\n",
    "# test_transcripts = np.array(test_transcripts)\n",
    "y_train_phoc_labels = [generate_label(get_generator_value(train_generator.class_indices, int(i))) for i in y_train]\n",
    "y_train_phos_labels = [phos_generate_label(get_generator_value(train_generator.class_indices, int(i))) for i in y_train]\n",
    "\n",
    "y_val_phoc_labels = [generate_label(get_generator_value(val_generator.class_indices, int(i))) for i in y_val]\n",
    "y_val_phos_labels = [phos_generate_label(get_generator_value(val_generator.class_indices, int(i))) for i in y_val]\n",
    "\n",
    "y_test_phoc_labels = [generate_label(get_generator_value(test_generator.class_indices, int(i))) for i in y_test]\n",
    "y_test_phos_labels = [phos_generate_label(get_generator_value(test_generator.class_indices, int(i))) for i in y_test]"
   ]
  },
  {
   "cell_type": "code",
   "execution_count": null,
   "id": "7346aa84",
   "metadata": {},
   "outputs": [],
   "source": [
    "weight_path = 'phosc_weights.pkl'\n",
    "if os.path.exists(weight_path):\n",
    "    model = base_model(110, 110, weight_path= weight_path)\n",
    "else:\n",
    "    model = base_model(110, 110)"
   ]
  },
  {
   "cell_type": "code",
   "execution_count": null,
   "id": "400bf1ca",
   "metadata": {},
   "outputs": [],
   "source": [
    "batch_size = 32\n",
    "train_sequence = DataSequence(imagefiles=X_train_files, phoclabels= y_train_phoc_labels, phoslabels=y_train_phos_labels, batch_size=batch_size)\n",
    "valid_sequence = DataSequence(imagefiles=X_val_files, phoclabels= y_val_phoc_labels, phoslabels=y_val_phos_labels, batch_size=batch_size)"
   ]
  },
  {
   "cell_type": "code",
   "execution_count": null,
   "id": "0b09827e",
   "metadata": {},
   "outputs": [],
   "source": [
    "# Early stopping and ReduceLROnPlateau callbacks\n",
    "early_stop = tensorflow.keras.callbacks.EarlyStopping(monitor='val_loss', min_delta=0.0001, patience=10, verbose=2,mode='auto', baseline=None, restore_best_weights=False)\n",
    "rlp=tensorflow.keras.callbacks.ReduceLROnPlateau(monitor='val_phocnet_loss', factor=0.25, patience=5, verbose=1,mode='auto', min_delta=0.0001, cooldown=2, min_lr=1e-7)\n",
    "callbacks_list = [early_stop,rlp]\n",
    "\n",
    "for i in range(100):\n",
    "    history = model.fit(\n",
    "        train_sequence,\n",
    "        epochs=5,\n",
    "        shuffle= True,\n",
    "        validation_data=valid_sequence,\n",
    "        verbose=1,\n",
    "        callbacks=callbacks_list)\n",
    "\n",
    "    weights = model.get_weights()\n",
    "    df = pd.DataFrame(weights)\n",
    "    print(\"Saving the best model.......\")\n",
    "    model.save('phosc-model.h5')\n",
    "    df.to_pickle('phosc_weights.pkl')\n",
    "#\n",
    "# # Create directory to store training history\n",
    "#\n",
    "# if not os.path.exists(\"Train_History\"):\n",
    "#     os.makedirs(\"Train_History\")\n",
    "#\n",
    "# # Store train history as CSV file\n",
    "# model_name=\"phoc-model\"\n",
    "# hist_df = pd.DataFrame(history.history)\n",
    "# hist_csv_file = 'Train_History/history_'+model_name+'.csv'\n",
    "# with open(hist_csv_file, mode='w') as f:\n",
    "#     hist_df.to_csv(f)\n",
    "#\n",
    "# # Plot train and validation accuracy(avg cosine similarity)\n",
    "#\n",
    "# acc = history.history['cosine_similarity']\n",
    "# val_acc = history.history['val_cosine_similarity']\n",
    "# loss = history.history['loss']\n",
    "# val_loss = history.history['val_loss']\n",
    "# epochs = range(1, len(acc) + 1)\n",
    "# plt.plot(epochs, acc,label='Training Similarity')\n",
    "# plt.plot(epochs, val_acc,label='Validation Similarity')\n",
    "# plt.title(model_name+'_Cosine Similarity')\n",
    "# plt.legend()\n",
    "# plt.savefig('Train_History/'+model_name+'_Pretrain_CS.png')\n",
    "# plt.show()\n",
    "#\n",
    "# # Plot train and validation loss\n",
    "# plt.plot(epochs, loss,label='Training Loss')\n",
    "# plt.plot(epochs, val_loss,label='Validation Loss')\n",
    "# plt.title(model_name+' MSE Loss')\n",
    "# plt.legend()\n",
    "# plt.savefig('Train_History/'+model_name+'_Pretrain_Loss.png')\n",
    "# plt.show()"
   ]
  },
  {
   "cell_type": "code",
   "execution_count": null,
   "id": "45d40120",
   "metadata": {},
   "outputs": [],
   "source": [
    "sys.stdout = old_stdout\n",
    "log_file.close()"
   ]
  }
 ],
 "metadata": {
  "jupytext": {
   "cell_metadata_filter": "-all",
   "main_language": "python",
   "notebook_metadata_filter": "-all"
  },
  "kernel_info": {
   "name": "python3"
  },
  "kernelspec": {
   "display_name": "Python 3 (ipykernel)",
   "language": "python",
   "name": "python3"
  },
  "language_info": {
   "codemirror_mode": {
    "name": "ipython",
    "version": 3
   },
   "file_extension": ".py",
   "mimetype": "text/x-python",
   "name": "python",
   "nbconvert_exporter": "python",
   "pygments_lexer": "ipython3",
   "version": "3.9.0"
  },
  "nteract": {
   "version": "nteract-front-end@1.0.0"
  }
 },
 "nbformat": 4,
 "nbformat_minor": 5
}
