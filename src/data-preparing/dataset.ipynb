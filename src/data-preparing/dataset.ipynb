{
  "cells": [
    {
      "cell_type": "code",
      "source": [
        "!pip install gdown\r\n",
        "!pip install unrar\r\n",
        "!pip install imageio"
      ],
      "outputs": [
        {
          "output_type": "stream",
          "name": "stdout",
          "text": "Requirement already satisfied: imageio in /anaconda/envs/azureml_py36/lib/python3.6/site-packages (2.15.0)\r\nRequirement already satisfied: pillow>=8.3.2 in /anaconda/envs/azureml_py36/lib/python3.6/site-packages (from imageio) (8.4.0)\r\nRequirement already satisfied: numpy in /anaconda/envs/azureml_py36/lib/python3.6/site-packages (from imageio) (1.18.5)\r\n"
        }
      ],
      "execution_count": 1,
      "metadata": {}
    },
    {
      "cell_type": "code",
      "source": [
        "!gdown --id 1Eg9KEUzPpiWZPQF91lHll0a6fcpuGs2h"
      ],
      "outputs": [
        {
          "output_type": "stream",
          "name": "stdout",
          "text": "/anaconda/envs/azureml_py36/lib/python3.6/site-packages/gdown/cli.py:131: FutureWarning: Option `--id` was deprecated in version 4.3.1 and will be removed in 5.0. You don't need to pass it anymore to use a file ID.\n  category=FutureWarning,\nDownloading...\nFrom: https://drive.google.com/uc?id=1Eg9KEUzPpiWZPQF91lHll0a6fcpuGs2h\nTo: /mnt/batch/tasks/shared/LS_root/mounts/clusters/asarcpu/code/Users/abdullahmuhamed3604_sd/VML-HD.zip\n100%|██████████████████████████████████████| 5.39G/5.39G [01:43<00:00, 51.9MB/s]\n"
        }
      ],
      "execution_count": 2,
      "metadata": {
        "jupyter": {
          "source_hidden": false,
          "outputs_hidden": false
        },
        "nteract": {
          "transient": {
            "deleting": false
          }
        }
      }
    },
    {
      "cell_type": "code",
      "source": [
        "!gdown --id 1Cw8CTYxXXbu11JhOF4zSudyEA9RX-rjJ"
      ],
      "outputs": [
        {
          "output_type": "stream",
          "name": "stdout",
          "text": "/anaconda/envs/azureml_py36/lib/python3.6/site-packages/gdown/cli.py:131: FutureWarning: Option `--id` was deprecated in version 4.3.1 and will be removed in 5.0. You don't need to pass it anymore to use a file ID.\n  category=FutureWarning,\nDownloading...\nFrom: https://drive.google.com/uc?id=1Cw8CTYxXXbu11JhOF4zSudyEA9RX-rjJ\nTo: /mnt/batch/tasks/shared/LS_root/mounts/clusters/asarcpu/code/Users/abdullahmuhamed3604_sd/xmlFiles.rar\n100%|██████████████████████████████████████| 3.60M/3.60M [00:00<00:00, 28.9MB/s]\n"
        }
      ],
      "execution_count": 3,
      "metadata": {
        "jupyter": {
          "source_hidden": false,
          "outputs_hidden": false
        },
        "nteract": {
          "transient": {
            "deleting": false
          }
        }
      }
    },
    {
      "cell_type": "code",
      "source": [
        "!unzip VML-HD.zip\r\n",
        "!unrar x xmlFiles.rar"
      ],
      "outputs": [
        {
          "output_type": "stream",
          "name": "stdout",
          "text": "Archive:  VML-HD.zip\n   creating: 3157556/\n  inflating: 3157556/0003-1.png      \n  inflating: 3157556/0003-2.png      \n  inflating: 3157556/0004-1.png      \n  inflating: 3157556/0004-2.png      \n  inflating: 3157556/0005-1.png      \n  inflating: 3157556/0005-2.png      \n  inflating: 3157556/0006-1.png      \n  inflating: 3157556/0006-2.png      \n  inflating: 3157556/0007-1.png      \n  inflating: 3157556/0007-2.png      \n  inflating: 3157556/0008-1.png      \n  inflating: 3157556/0008-2.png      \n  inflating: 3157556/0009-1.png      \n  inflating: 3157556/0009-2.png      \n  inflating: 3157556/0010-1.png      \n  inflating: 3157556/0010-2.png      \n  inflating: 3157556/0011-1.png      \n  inflating: 3157556/0011-2.png      \n  inflating: 3157556/0012-1.png      \n  inflating: 3157556/0012-2.png      \n  inflating: 3157556/0013-1.png      \n  inflating: 3157556/0013-2.png      \n  inflating: 3157556/0014-1.png      \n  inflating: 3157556/0014-2.png      \n  inflating: 3157556/0015-1.png      \n  inflating: 3157556/0015-2.png      \n  inflating: 3157556/0016-1.png      \n  inflating: 3157556/0016-2.png      \n  inflating: 3157556/0017-1.png      \n  inflating: 3157556/0017-2.png      \n  inflating: 3157556/0018-1.png      \n  inflating: 3157556/0018-2.png      \n  inflating: 3157556/0019-1.png      \n  inflating: 3157556/0019-2.png      \n  inflating: 3157556/0020-1.png      \n  inflating: 3157556/0020-2.png      \n  inflating: 3157556/0021-1.png      \n  inflating: 3157556/0021-2.png      \n  inflating: 3157556/0022-1.png      \n  inflating: 3157556/0022-2.png      \n  inflating: 3157556/0023-1.png      \n  inflating: 3157556/0023-2.png      \n  inflating: 3157556/0024-1.png      \n  inflating: 3157556/0024-2.png      \n  inflating: 3157556/0025-1.png      \n  inflating: 3157556/0025-2.png      \n  inflating: 3157556/0026-1.png      \n  inflating: 3157556/0026-2.png      \n  inflating: 3157556/0027-1.png      \n  inflating: 3157556/0027-2.png      \n  inflating: 3157556/0028-1.png      \n  inflating: 3157556/0028-2.png      \n  inflating: 3157556/0029-1.png      \n  inflating: 3157556/0029-2.png      \n  inflating: 3157556/0030-1.png      \n  inflating: 3157556/0030-2.png      \n  inflating: 3157556/0031-1.png      \n  inflating: 3157556/0031-2.png      \n  inflating: 3157556/0032-1.png      \n  inflating: 3157556/0032-2.png      \n  inflating: 3157556/0033-1.png      \n  inflating: 3157556/0033-2.png      \n  inflating: 3157556/0034-1.png      \n  inflating: 3157556/0034-2.png      \n  inflating: 3157556/0035-1.png      \n  inflating: 3157556/0035-2.png      \n  inflating: 3157556/0036-1.png      \n  inflating: 3157556/0036-2.png      \n  inflating: 3157556/0037-1.png      \n  inflating: 3157556/0037-2.png      \n  inflating: 3157556/0038-1.png      \n  inflating: 3157556/0038-2.png      \n  inflating: 3157556/0039-1.png      \n  inflating: 3157556/0039-2.png      \n  inflating: 3157556/0040-1.png      \n  inflating: 3157556/0040-2.png      \n  inflating: 3157556/0041-1.png      \n  inflating: 3157556/0041-2.png      \n  inflating: 3157556/0042-1.png      \n  inflating: 3157556/0042-2.png      \n  inflating: 3157556/0043-1.png      \n  inflating: 3157556/0043-2.png      \n  inflating: 3157556/0044-1.png      \n  inflating: 3157556/0044-2.png      \n  inflating: 3157556/0045-1.png      \n  inflating: 3157556/0045-2.png      \n  inflating: 3157556/0046-1.png      \n  inflating: 3157556/0046-2.png      \n  inflating: 3157556/0047-1.png      \n  inflating: 3157556/0047-2.png      \n  inflating: 3157556/0048-1.png      \n  inflating: 3157556/0048-2.png      \n  inflating: 3157556/0049-1.png      \n  inflating: 3157556/0049-2.png      \n  inflating: 3157556/0050-1.png      \n  inflating: 3157556/0050-2.png      \n  inflating: 3157556/0051-1.png      \n  inflating: 3157556/0051-2.png      \n  inflating: 3157556/0052-1.png      \n  inflating: 3157556/0052-2.png      \n  inflating: 3157556/0053-1.png      \n  inflating: 3157556/0053-2.png      \n  inflating: 3157556/0054-1.png      \n  inflating: 3157556/0054-2.png      \n  inflating: 3157556/0055-1.png      \n  inflating: 3157556/0055-2.png      \n  inflating: 3157556/0056-1.png      \n  inflating: 3157556/0056-2.png      \n  inflating: 3157556/0057-1.png      \n  inflating: 3157556/0057-2.png      \n  inflating: 3157556/0058-1.png      \n  inflating: 3157556/0058-2.png      \n  inflating: 3157556/0059-1.png      \n  inflating: 3157556/0059-2.png      \n  inflating: 3157556/0060-1.png      \n  inflating: 3157556/0060-2.png      \n  inflating: 3157556/0061-1.png      \n  inflating: 3157556/0061-2.png      \n  inflating: 3157556/0062-1.png      \n  inflating: 3157556/0062-2.png      \n  inflating: 3157556/0063-1.png      \n  inflating: 3157556/0063-2.png      \n  inflating: 3157556/0064-1.png      \n  inflating: 3157556/0064-2.png      \n  inflating: 3157556/0065-1.png      \n  inflating: 3157556/0065-2.png      \n  inflating: 3157556/0066-1.png      \n  inflating: 3157556/0066-2.png      \n  inflating: 3157556/0067-1.png      \n  inflating: 3157556/0067-2.png      \n  inflating: 3157556/0068-1.png      \n  inflating: 3157556/0068-2.png      \n  inflating: 3157556/0069-1.png      \n  inflating: 3157556/0069-2.png      \n  inflating: 3157556/0070-1.png      \n  inflating: 3157556/0070-2.png      \n  inflating: 3157556/0071-1.png      \n  inflating: 3157556/0071-2.png      \n  inflating: 3157556/0072-1.png      \n  inflating: 3157556/0072-2.png      \n  inflating: 3157556/0073-1.png      \n  inflating: 3157556/0073-2.png      \n  inflating: 3157556/0074-1.png      \n  inflating: 3157556/0074-2.png      \n  inflating: 3157556/0075-1.png      \n  inflating: 3157556/0075-2.png      \n  inflating: 3157556/0076-1.png      \n  inflating: 3157556/0076-2.png      \n  inflating: 3157556/0077-1.png      \n  inflating: 3157556/0077-2.png      \n  inflating: 3157556/0078-1.png      \n  inflating: 3157556/0078-2.png      \n  inflating: 3157556/0079-1.png      \n  inflating: 3157556/0079-2.png      \n  inflating: 3157556/0080-1.png      \n  inflating: 3157556/0080-2.png      \n  inflating: 3157556/0081-1.png      \n  inflating: 3157556/0081-2.png      \n  inflating: 3157556/0082-1.png      \n  inflating: 3157556/0082-2.png      \n  inflating: 3157556/0083-1.png      \n  inflating: 3157556/0083-2.png      \n  inflating: 3157556/0084-1.png      \n  inflating: 3157556/0084-2.png      \n  inflating: 3157556/0085-1.png      \n  inflating: 3157556/0085-2.png      \n  inflating: 3157556/0086-1.png      \n  inflating: 3157556/0086-2.png      \n  inflating: 3157556/0087-1.png      \n  inflating: 3157556/0087-2.png      \n  inflating: 3157556/0088-1.png      \n  inflating: 3157556/0088-2.png      \n  inflating: 3157556/0089-1.png      \n  inflating: 3157556/0089-2.png      \n  inflating: 3157556/0090-1.png      \n  inflating: 3157556/0090-2.png      \n  inflating: 3157556/0091-1.png      \n  inflating: 3157556/0091-2.png      \n  inflating: 3157556/0092-1.png      \n  inflating: 3157556/0092-2.png      \n  inflating: 3157556/0093-1.png      \n  inflating: 3157556/0093-2.png      \n  inflating: 3157556/0094-1.png      \n  inflating: 3157556/0094-2.png      \n  inflating: 3157556/0095-1.png      \n  inflating: 3157556/0095-2.png      \n  inflating: 3157556/0096-1.png      \n  inflating: 3157556/0096-2.png      \n  inflating: 3157556/0097-1.png      \n  inflating: 3157556/0097-2.png      \n  inflating: 3157556/0098-1.png      \n  inflating: 3157556/0098-2.png      \n  inflating: 3157556/0099-1.png      \n  inflating: 3157556/0099-2.png      \n  inflating: 3157556/0100-1.png      \n  inflating: 3157556/0100-2.png      \n  inflating: 3157556/docElementsXml.ashx  \n   creating: 3158466/\n  inflating: 3158466/docElementsXml.ashx  \n  inflating: 3158466/_005-1.png      \n  inflating: 3158466/_005-2.png      \n  inflating: 3158466/_006-1.png      \n  inflating: 3158466/_006-2.png      \n  inflating: 3158466/_007-1.png      \n  inflating: 3158466/_007-2.png      \n  inflating: 3158466/_008-1.png      \n  inflating: 3158466/_008-2.png      \n  inflating: 3158466/_009-1.png      \n  inflating: 3158466/_009-2.png      \n  inflating: 3158466/_010-1.png      \n  inflating: 3158466/_010-2.png      \n  inflating: 3158466/_011-1.png      \n  inflating: 3158466/_011-2.png      \n  inflating: 3158466/_012-1.png      \n  inflating: 3158466/_012-2.png      \n  inflating: 3158466/_013-1.png      \n  inflating: 3158466/_013-2.png      \n  inflating: 3158466/_014-1.png      \n  inflating: 3158466/_014-2.png      \n  inflating: 3158466/_015-1.png      \n  inflating: 3158466/_015-2.png      \n  inflating: 3158466/_016-1.png      \n  inflating: 3158466/_016-2.png      \n  inflating: 3158466/_017-1.png      \n  inflating: 3158466/_017-2.png      \n  inflating: 3158466/_018-1.png      \n  inflating: 3158466/_018-2.png      \n  inflating: 3158466/_019-1.png      \n  inflating: 3158466/_019-2.png      \n  inflating: 3158466/_020-1.png      \n  inflating: 3158466/_020-2.png      \n  inflating: 3158466/_021-1.png      \n  inflating: 3158466/_021-2.png      \n  inflating: 3158466/_022-1.png      \n  inflating: 3158466/_022-2.png      \n  inflating: 3158466/_023-1.png      \n  inflating: 3158466/_023-2.png      \n  inflating: 3158466/_024-1.png      \n  inflating: 3158466/_024-2.png      \n  inflating: 3158466/_025-1.png      \n  inflating: 3158466/_025-2.png      \n  inflating: 3158466/_026-1.png      \n  inflating: 3158466/_026-2.png      \n  inflating: 3158466/_027-1.png      \n  inflating: 3158466/_027-2.png      \n  inflating: 3158466/_028-1.png      \n  inflating: 3158466/_028-2.png      \n  inflating: 3158466/_029-1.png      \n  inflating: 3158466/_029-2.png      \n  inflating: 3158466/_030-1.png      \n  inflating: 3158466/_030-2.png      \n  inflating: 3158466/_031-1.png      \n  inflating: 3158466/_031-2.png      \n  inflating: 3158466/_032-1.png      \n  inflating: 3158466/_032-2.png      \n  inflating: 3158466/_033-1.png      \n  inflating: 3158466/_033-2.png      \n  inflating: 3158466/_034-1.png      \n  inflating: 3158466/_034-2.png      \n  inflating: 3158466/_035-1.png      \n  inflating: 3158466/_035-2.png      \n  inflating: 3158466/_036-1.png      \n  inflating: 3158466/_036-2.png      \n  inflating: 3158466/_037-1.png      \n  inflating: 3158466/_037-2.png      \n  inflating: 3158466/_038-1.png      \n  inflating: 3158466/_038-2.png      \n  inflating: 3158466/_039-1.png      \n  inflating: 3158466/_039-2.png      \n  inflating: 3158466/_040-1.png      \n  inflating: 3158466/_040-2.png      \n  inflating: 3158466/_041-1.png      \n  inflating: 3158466/_041-2.png      \n  inflating: 3158466/_042-1.png      \n  inflating: 3158466/_042-2.png      \n  inflating: 3158466/_043-1.png      \n  inflating: 3158466/_043-2.png      \n  inflating: 3158466/_044-1.png      \n  inflating: 3158466/_044-2.png      \n  inflating: 3158466/_045-1.png      \n  inflating: 3158466/_045-2.png      \n  inflating: 3158466/_046-1.png      \n  inflating: 3158466/_046-2.png      \n  inflating: 3158466/_047-1.png      \n  inflating: 3158466/_047-2.png      \n  inflating: 3158466/_048-1.png      \n  inflating: 3158466/_048-2.png      \n  inflating: 3158466/_049-1.png      \n  inflating: 3158466/_049-2.png      \n  inflating: 3158466/_050-1.png      \n  inflating: 3158466/_050-2.png      \n  inflating: 3158466/_051-1.png      \n  inflating: 3158466/_051-2.png      \n  inflating: 3158466/_052-1.png      \n  inflating: 3158466/_052-2.png      \n  inflating: 3158466/_053-1.png      \n  inflating: 3158466/_053-2.png      \n  inflating: 3158466/_054-1.png      \n  inflating: 3158466/_054-2.png      \n  inflating: 3158466/_055-1.png      \n  inflating: 3158466/_055-2.png      \n  inflating: 3158466/_056-1.png      \n  inflating: 3158466/_056-2.png      \n  inflating: 3158466/_057-1.png      \n  inflating: 3158466/_057-2.png      \n  inflating: 3158466/_058-1.png      \n  inflating: 3158466/_058-2.png      \n  inflating: 3158466/_059-1.png      \n  inflating: 3158466/_059-2.png      \n  inflating: 3158466/_060-1.png      \n  inflating: 3158466/_060-2.png      \n  inflating: 3158466/_061-1.png      \n  inflating: 3158466/_061-2.png      \n  inflating: 3158466/_062-1.png      \n  inflating: 3158466/_062-2.png      \n  inflating: 3158466/_063-1.png      \n  inflating: 3158466/_063-2.png      \n  inflating: 3158466/_064-1.png      \n  inflating: 3158466/_064-2.png      \n  inflating: 3158466/_065-1.png      \n  inflating: 3158466/_065-2.png      \n  inflating: 3158466/_066-1.png      \n  inflating: 3158466/_066-2.png      \n  inflating: 3158466/_067-1.png      \n  inflating: 3158466/_067-2.png      \n  inflating: 3158466/_068-1.png      \n  inflating: 3158466/_068-2.png      \n  inflating: 3158466/_069-1.png      \n  inflating: 3158466/_069-2.png      \n  inflating: 3158466/_070-1.png      \n  inflating: 3158466/_070-2.png      \n  inflating: 3158466/_071-1.png      \n  inflating: 3158466/_071-2.png      \n  inflating: 3158466/_072-1.png      \n  inflating: 3158466/_072-2.png      \n   creating: 3249138/\n  inflating: 3249138/0007-1.png      \n  inflating: 3249138/0007-2.png      \n  inflating: 3249138/0008-1.png      \n  inflating: 3249138/0008-2.png      \n  inflating: 3249138/0009-1.png      \n  inflating: 3249138/0009-2.png      \n  inflating: 3249138/0010-1.png      \n  inflating: 3249138/0010-2.png      \n  inflating: 3249138/0011-1.png      \n  inflating: 3249138/0011-2.png      \n  inflating: 3249138/0012-1.png      \n  inflating: 3249138/0012-2.png      \n  inflating: 3249138/0013-1.png      \n  inflating: 3249138/0013-2.png      \n  inflating: 3249138/0014-1.png      \n  inflating: 3249138/0014-2.png      \n  inflating: 3249138/0015-1.png      \n  inflating: 3249138/0015-2.png      \n  inflating: 3249138/0016-1.png      \n  inflating: 3249138/0016-2.png      \n  inflating: 3249138/0017-1.png      \n  inflating: 3249138/0017-2.png      \n  inflating: 3249138/0018-1.png      \n  inflating: 3249138/0018-2.png      \n  inflating: 3249138/0019-1.png      \n  inflating: 3249138/0019-2.png      \n  inflating: 3249138/0020-1.png      \n  inflating: 3249138/0020-2.png      \n  inflating: 3249138/0021-1.png      \n  inflating: 3249138/0021-2.png      \n  inflating: 3249138/0022-1.png      \n  inflating: 3249138/0022-2.png      \n  inflating: 3249138/0023-1.png      \n  inflating: 3249138/0023-2.png      \n  inflating: 3249138/0024-1.png      \n  inflating: 3249138/0024-2.png      \n  inflating: 3249138/0025-1.png      \n  inflating: 3249138/0025-2.png      \n  inflating: 3249138/0026-1.png      \n  inflating: 3249138/0026-2.png      \n  inflating: 3249138/0027-1.png      \n  inflating: 3249138/0027-2.png      \n  inflating: 3249138/0028-1.png      \n  inflating: 3249138/0028-2.png      \n  inflating: 3249138/0029-1.png      \n  inflating: 3249138/0029-2.png      \n  inflating: 3249138/0030-1.png      \n  inflating: 3249138/0030-2.png      \n  inflating: 3249138/0031-1.dib      \n  inflating: 3249138/0031-2.png      \n  inflating: 3249138/0032-1.png      \n  inflating: 3249138/0032-2.png      \n  inflating: 3249138/0033-1.png      \n  inflating: 3249138/0033-2.png      \n  inflating: 3249138/0034-1.png      \n  inflating: 3249138/0034-2.png      \n  inflating: 3249138/0035-1.png      \n  inflating: 3249138/0035-2.png      \n  inflating: 3249138/0036-1.png      \n  inflating: 3249138/0036-2.png      \n  inflating: 3249138/0037-1.png      \n  inflating: 3249138/0037-2.png      \n  inflating: 3249138/0038-1.png      \n  inflating: 3249138/0038-2.png      \n  inflating: 3249138/0039-1.png      \n  inflating: 3249138/0039-2.png      \n  inflating: 3249138/0040-1.png      \n  inflating: 3249138/0040-2.png      \n  inflating: 3249138/0041-1.png      \n  inflating: 3249138/0041-2.png      \n  inflating: 3249138/0042-1.png      \n  inflating: 3249138/0042-2.png      \n  inflating: 3249138/0043-1.png      \n  inflating: 3249138/0043-2.png      \n  inflating: 3249138/0044-1.png      \n  inflating: 3249138/0044-2.png      \n  inflating: 3249138/0045-1.png      \n  inflating: 3249138/0045-2.png      \n  inflating: 3249138/0046-1.png      \n  inflating: 3249138/0046-2.png      \n  inflating: 3249138/0047-1.png      \n  inflating: 3249138/0047-2.png      \n  inflating: 3249138/0048-1.png      \n  inflating: 3249138/0048-2.png      \n  inflating: 3249138/0049-1.png      \n  inflating: 3249138/0049-2.png      \n  inflating: 3249138/0050-1.png      \n  inflating: 3249138/0050-2.png      \n  inflating: 3249138/0051-1.png      \n  inflating: 3249138/0051-2.png      \n  inflating: 3249138/0052-1.png      \n  inflating: 3249138/0052-2.png      \n  inflating: 3249138/0053-1.png      \n  inflating: 3249138/0053-2.png      \n  inflating: 3249138/0054-1.png      \n  inflating: 3249138/0054-2.png      \n  inflating: 3249138/0055-1.png      \n  inflating: 3249138/0055-2.png      \n  inflating: 3249138/0056-1.png      \n  inflating: 3249138/0056-2.png      \n  inflating: 3249138/0057-1.png      \n  inflating: 3249138/0057-2.png      \n  inflating: 3249138/docElementsXml.ashx  \n   creating: 3368132/\n  inflating: 3368132/docElementsXml.ashx  \n  inflating: 3368132/_0004-1.png     \n  inflating: 3368132/_0004-2.png     \n  inflating: 3368132/_0005-1.png     \n  inflating: 3368132/_0005-2.png     \n  inflating: 3368132/_0006-1.png     \n  inflating: 3368132/_0006-2.png     \n  inflating: 3368132/_0007-1.png     \n  inflating: 3368132/_0007-2.png     \n  inflating: 3368132/_0008-1.png     \n  inflating: 3368132/_0008-2.png     \n  inflating: 3368132/_0009-1.png     \n  inflating: 3368132/_0009-2.png     \n  inflating: 3368132/_0010-1.png     \n  inflating: 3368132/_0010-2.png     \n  inflating: 3368132/_0011-1.png     \n  inflating: 3368132/_0011-2.png     \n  inflating: 3368132/_0012-1.png     \n  inflating: 3368132/_0012-2.png     \n  inflating: 3368132/_0013-1.png     \n  inflating: 3368132/_0013-2.png     \n  inflating: 3368132/_0014-1.png     \n  inflating: 3368132/_0014-2.png     \n  inflating: 3368132/_0015-1.png     \n  inflating: 3368132/_0015-2.png     \n  inflating: 3368132/_0016-1.png     \n  inflating: 3368132/_0016-2.png     \n  inflating: 3368132/_0017-1.png     \n  inflating: 3368132/_0017-2.png     \n  inflating: 3368132/_0018-1.png     \n  inflating: 3368132/_0018-2.png     \n  inflating: 3368132/_0019-1.png     \n  inflating: 3368132/_0019-2.png     \n  inflating: 3368132/_0020-1.png     \n  inflating: 3368132/_0020-2.png     \n  inflating: 3368132/_0021-1.png     \n  inflating: 3368132/_0021-2.png     \n  inflating: 3368132/_0022-1.png     \n  inflating: 3368132/_0022-2.png     \n  inflating: 3368132/_0023-1.png     \n  inflating: 3368132/_0023-2.png     \n  inflating: 3368132/_0024-1.png     \n  inflating: 3368132/_0024-2.png     \n  inflating: 3368132/_0025-1.png     \n  inflating: 3368132/_0025-2.png     \n  inflating: 3368132/_0026-1.png     \n  inflating: 3368132/_0026-2.png     \n  inflating: 3368132/_0027-1.png     \n  inflating: 3368132/_0027-2.png     \n  inflating: 3368132/_0028-1.png     \n  inflating: 3368132/_0028-2.png     \n  inflating: 3368132/_0029-1.png     \n  inflating: 3368132/_0029-2.png     \n  inflating: 3368132/_0030-1.png     \n  inflating: 3368132/_0030-2.png     \n  inflating: 3368132/_0031-1.png     \n  inflating: 3368132/_0031-2.png     \n  inflating: 3368132/_0032-1.png     \n  inflating: 3368132/_0032-2.png     \n  inflating: 3368132/_0033-1.png     \n  inflating: 3368132/_0033-2.png     \n  inflating: 3368132/_0034-1.png     \n  inflating: 3368132/_0034-2.png     \n  inflating: 3368132/_0035-1.png     \n  inflating: 3368132/_0035-2.png     \n  inflating: 3368132/_0036-1.png     \n  inflating: 3368132/_0036-2.png     \n  inflating: 3368132/_0037-1.png     \n  inflating: 3368132/_0037-2.png     \n  inflating: 3368132/_0038-1.png     \n  inflating: 3368132/_0038-2.png     \n  inflating: 3368132/_0039-1.png     \n  inflating: 3368132/_0039-2.png     \n  inflating: 3368132/_0040-1.png     \n  inflating: 3368132/_0040-2.png     \n  inflating: 3368132/_0041-1.png     \n  inflating: 3368132/_0041-2.png     \n  inflating: 3368132/_0042-1.png     \n  inflating: 3368132/_0042-2.png     \n  inflating: 3368132/_0043-1.png     \n  inflating: 3368132/_0043-2.png     \n  inflating: 3368132/_0044-1.png     \n  inflating: 3368132/_0044-2.png     \n  inflating: 3368132/_0045-1.png     \n  inflating: 3368132/_0045-2.png     \n  inflating: 3368132/_0046-1.png     \n  inflating: 3368132/_0046-2.png     \n  inflating: 3368132/_0047-1.png     \n  inflating: 3368132/_0047-2.png     \n  inflating: 3368132/_0048-1.png     \n  inflating: 3368132/_0048-2.png     \n  inflating: 3368132/_0049-1.png     \n  inflating: 3368132/_0049-2.png     \n  inflating: 3368132/_0050-1.png     \n  inflating: 3368132/_0050-2.png     \n   creating: 3426930/\n  inflating: 3426930/0010-1.png      \n  inflating: 3426930/0010-2.png      \n  inflating: 3426930/0011-1.png      \n  inflating: 3426930/0011-2.png      \n  inflating: 3426930/0012-1.png      \n  inflating: 3426930/0012-2.png      \n  inflating: 3426930/0013-1.png      \n  inflating: 3426930/0013-2.png      \n  inflating: 3426930/0014-1.png      \n  inflating: 3426930/0014-2.png      \n  inflating: 3426930/0015-1.png      \n  inflating: 3426930/0015-2.png      \n  inflating: 3426930/0016-1.png      \n  inflating: 3426930/0016-2.png      \n  inflating: 3426930/0017-1.png      \n  inflating: 3426930/0017-2.png      \n  inflating: 3426930/0018-1.png      \n  inflating: 3426930/0018-2.png      \n  inflating: 3426930/0019-1.png      \n  inflating: 3426930/0019-2.png      \n  inflating: 3426930/0020-1.png      \n  inflating: 3426930/0020-2.png      \n  inflating: 3426930/0021-1.png      \n  inflating: 3426930/0021-2.png      \n  inflating: 3426930/0022-1.png      \n  inflating: 3426930/0022-2.png      \n  inflating: 3426930/0023-1.png      \n  inflating: 3426930/0023-2.png      \n  inflating: 3426930/0024-1.png      \n  inflating: 3426930/0024-2.png      \n  inflating: 3426930/0025-1.png      \n  inflating: 3426930/0025-2.png      \n  inflating: 3426930/0026-1.png      \n  inflating: 3426930/0026-2.png      \n  inflating: 3426930/0027-1.png      \n  inflating: 3426930/0027-2.png      \n  inflating: 3426930/0028-1.png      \n  inflating: 3426930/0028-2.png      \n  inflating: 3426930/0029-1.png      \n  inflating: 3426930/0029-2.png      \n  inflating: 3426930/0030-1.png      \n  inflating: 3426930/0030-2.png      \n  inflating: 3426930/0031-1.png      \n  inflating: 3426930/0031-2.png      \n  inflating: 3426930/0032-1.png      \n  inflating: 3426930/0032-2.png      \n  inflating: 3426930/0033-1.png      \n  inflating: 3426930/0033-2.png      \n  inflating: 3426930/0034-1.png      \n  inflating: 3426930/0034-2.png      \n  inflating: 3426930/0035-1.png      \n  inflating: 3426930/0035-2.png      \n  inflating: 3426930/0036-1.png      \n  inflating: 3426930/0036-2.png      \n  inflating: 3426930/0037-1.png      \n  inflating: 3426930/0037-2.png      \n  inflating: 3426930/0038-1.png      \n  inflating: 3426930/0038-2.png      \n  inflating: 3426930/0039-1.png      \n  inflating: 3426930/0039-2.png      \n  inflating: 3426930/0040-1.png      \n  inflating: 3426930/0040-2.png      \n  inflating: 3426930/0041-1.png      \n  inflating: 3426930/0041-2.png      \n  inflating: 3426930/0042-1.png      \n  inflating: 3426930/0042-2.png      \n  inflating: 3426930/0043-1.png      \n  inflating: 3426930/0043-2.png      \n  inflating: 3426930/0044-1.png      \n  inflating: 3426930/0044-2.png      \n  inflating: 3426930/0045-1.png      \n  inflating: 3426930/0045-2.png      \n  inflating: 3426930/0046-1.png      \n  inflating: 3426930/0046-2.png      \n  inflating: 3426930/0047-1.png      \n  inflating: 3426930/0047-2.png      \n  inflating: 3426930/0048-1.png      \n  inflating: 3426930/0048-2.png      \n  inflating: 3426930/0049-1.png      \n  inflating: 3426930/0049-2.png      \n  inflating: 3426930/0050-1.png      \n  inflating: 3426930/0050-2.png      \n  inflating: 3426930/0051-1.png      \n  inflating: 3426930/0051-2.png      \n  inflating: 3426930/0052-1.png      \n  inflating: 3426930/0052-2.png      \n  inflating: 3426930/0053-1.png      \n  inflating: 3426930/0053-2.png      \n  inflating: 3426930/0054-1.png      \n  inflating: 3426930/0054-2.png      \n  inflating: 3426930/0055-1.png      \n  inflating: 3426930/0055-2.png      \n  inflating: 3426930/0056-1.png      \n  inflating: 3426930/0056-2.png      \n  inflating: 3426930/0057-1.png      \n  inflating: 3426930/0057-2.png      \n  inflating: 3426930/0058-1.png      \n  inflating: 3426930/0058-2.png      \n  inflating: 3426930/0059-1.png      \n  inflating: 3426930/0059-2.png      \n  inflating: 3426930/0060-1.png      \n  inflating: 3426930/0060-2.png      \n  inflating: 3426930/0061-1.png      \n  inflating: 3426930/0061-2.png      \n  inflating: 3426930/0062-1.png      \n  inflating: 3426930/0062-2.png      \n  inflating: 3426930/0063-1.png      \n  inflating: 3426930/0063-2.png      \n  inflating: 3426930/0064-1.png      \n  inflating: 3426930/0064-2.png      \n  inflating: 3426930/0065-1.png      \n  inflating: 3426930/0065-2.png      \n  inflating: 3426930/0066-1.png      \n  inflating: 3426930/0066-2.png      \n  inflating: 3426930/0067-1.png      \n  inflating: 3426930/0067-2.png      \n  inflating: 3426930/0068-1.png      \n  inflating: 3426930/0068-2.png      \n  inflating: 3426930/0069-1.png      \n  inflating: 3426930/0069-2.png      \n  inflating: 3426930/0070-1.png      \n  inflating: 3426930/0070-2.png      \n  inflating: 3426930/0071-1.png      \n  inflating: 3426930/0071-2.png      \n  inflating: 3426930/0072-1.png      \n  inflating: 3426930/0072-2.png      \n  inflating: 3426930/0073-1.png      \n  inflating: 3426930/0073-2.png      \n  inflating: 3426930/0074-1.png      \n  inflating: 3426930/0074-2.png      \n  inflating: 3426930/0075-1.png      \n  inflating: 3426930/0075-2.png      \n  inflating: 3426930/0076-1.png      \n  inflating: 3426930/0076-2.png      \n  inflating: 3426930/0077-1.png      \n  inflating: 3426930/0077-2.png      \n  inflating: 3426930/0078-1.png      \n  inflating: 3426930/0078-2.png      \n  inflating: 3426930/0079-1.png      \n  inflating: 3426930/0079-2.png      \n  inflating: 3426930/docElementsXml.ashx  \n/bin/bash: unrar: command not found\n"
        }
      ],
      "execution_count": 4,
      "metadata": {
        "jupyter": {
          "source_hidden": false,
          "outputs_hidden": false
        },
        "nteract": {
          "transient": {
            "deleting": false
          }
        }
      }
    },
    {
      "cell_type": "markdown",
      "source": [
        "# Crop Dataset"
      ],
      "metadata": {
        "nteract": {
          "transient": {
            "deleting": false
          }
        }
      }
    },
    {
      "cell_type": "code",
      "source": [
        "import os\r\n",
        "import xml.etree.ElementTree as ET\r\n",
        "from imageio import imread, imsave\r\n",
        "\r\n",
        "books = ['3157556', '3158466', '3249138', '3368132', '3426930']\r\n",
        "root_path='segdata/'\r\n",
        "idx = 0\r\n",
        "\r\n",
        "for book in books:\r\n",
        "    print('parsing manuscript ', book)\r\n",
        "    tree = ET.parse(book + '/docElements.xml')\r\n",
        "    root = tree.getroot()\r\n",
        "    pad = 4\r\n",
        "    labels = []\r\n",
        "    idf = 0\r\n",
        "    for image in root.iter('image'):\r\n",
        "        pg=image.attrib.get('src')\r\n",
        "        idf=int(image.attrib.get('id'))\r\n",
        "        print(idf)\r\n",
        "        if (idf>=0):\r\n",
        "            print('in')\r\n",
        "            if os.path.exists(book +\"/\" +str(pg)+'.png'):\r\n",
        "                img = imread(book +\"/\" +str(pg)+'.png')\r\n",
        "                for zone in image.iter('zone'):\r\n",
        "                    c=0\r\n",
        "                    for point in zone.iter('point'):\r\n",
        "                        if c==0:\r\n",
        "                            y1= point.attrib.get('y')\r\n",
        "                            x1= point.attrib.get('x')\r\n",
        "                        if c==2:\r\n",
        "                            y2= point.attrib.get('y')\r\n",
        "                            x2= point.attrib.get('x')\r\n",
        "                        c=c+1\r\n",
        "                    id=int(zone.attrib.get('id'))\r\n",
        "                    label=None\r\n",
        "                    for segment in root.iter('segment'):\r\n",
        "                        tid=int(segment.attrib.get('id'))\r\n",
        "                        if tid==id:\r\n",
        "                            label= segment[1].text\r\n",
        "                    if label is None:\r\n",
        "                        label='mislabel'\r\n",
        "                        print ('there is a mismatch label')\r\n",
        "\r\n",
        "                    label=label.replace('\\\\', '')\r\n",
        "                    label=label.strip()\r\n",
        "                    labels.append(label)\r\n",
        "                    if not os.path.exists(root_path + label):\r\n",
        "                        os.makedirs(root_path + label)\r\n",
        "\r\n",
        "                    roi = img[int(y1)-pad:int(y2)+pad,int(x1)-pad:int(x2)+pad]\r\n",
        "                    if roi.any():\r\n",
        "                        direc= root_path + label\r\n",
        "                        imsave(direc+'/' + str(idf) +'-'+str(idx)+ '.png', roi)\r\n",
        "                        idx = idx + 1\r\n",
        "        else:\r\n",
        "            continue\r\n"
      ],
      "outputs": [
        {
          "output_type": "stream",
          "name": "stdout",
          "text": "parsing manuscript  3157556\n781\nin\nthere is a mismatch label\n782\nin\nthere is a mismatch label\nthere is a mismatch label\nthere is a mismatch label\nthere is a mismatch label\n783\nin\nthere is a mismatch label\nthere is a mismatch label\nthere is a mismatch label\nthere is a mismatch label\nthere is a mismatch label\n784\nin\nthere is a mismatch label\nthere is a mismatch label\n785\nin\nthere is a mismatch label\n786\nin\nthere is a mismatch label\n787\nin\n788\nin\n789\nin\nthere is a mismatch label\n790\nin\nthere is a mismatch label\n791\nin\nthere is a mismatch label\nthere is a mismatch label\n792\nin\nthere is a mismatch label\nthere is a mismatch label\n793\nin\nthere is a mismatch label\nthere is a mismatch label\n794\nin\nthere is a mismatch label\n795\nin\nthere is a mismatch label\n796\nin\n797\nin\n798\nin\nthere is a mismatch label\nthere is a mismatch label\nthere is a mismatch label\nthere is a mismatch label\nthere is a mismatch label\n799\nin\nthere is a mismatch label\n800\nin\nthere is a mismatch label\n801\nin\nthere is a mismatch label\n802\nin\nthere is a mismatch label\n803\nin\n804\nin\nthere is a mismatch label\nthere is a mismatch label\n805\nin\n806\nin\n807\nin\n808\nin\nthere is a mismatch label\n809\nin\n810\nin\nthere is a mismatch label\n811\nin\n812\nin\nthere is a mismatch label\n813\nin\n814\nin\n815\nin\n816\nin\n907\nin\n908\nin\n911\nin\n912\nin\n913\nin\n914\nin\n915\nin\n916\nin\n917\nin\n918\nin\n919\nin\n920\nin\n921\nin\n922\nin\n923\nin\n924\nin\n925\nin\n926\nin\n927\nin\nthere is a mismatch label\n928\nin\nthere is a mismatch label\n929\nin\nthere is a mismatch label\nthere is a mismatch label\nthere is a mismatch label\n930\nin\nthere is a mismatch label\n931\nin\n932\nin\nthere is a mismatch label\n933\nin\n934\nin\nthere is a mismatch label\n935\nin\nthere is a mismatch label\nthere is a mismatch label\n936\nin\n937\nin\n938\nin\n939\nin\nthere is a mismatch label\n940\nin\n941\nin\nthere is a mismatch label\n942\nin\n943\nin\n944\nin\nthere is a mismatch label\nthere is a mismatch label\n945\nin\nthere is a mismatch label\n946\nin\n947\nin\nthere is a mismatch label\n948\nin\n949\nin\n950\nin\n951\nin\n952\nin\n953\nin\nthere is a mismatch label\n954\nin\n955\nin\n956\nin\nthere is a mismatch label\nthere is a mismatch label\n957\nin\n958\nin\n959\nin\nthere is a mismatch label\n960\nin\nthere is a mismatch label\n961\nin\n962\nin\n963\nin\n964\nin\n965\nin\nthere is a mismatch label\n966\nin\nthere is a mismatch label\n967\nin\nthere is a mismatch label\nthere is a mismatch label\n968\nin\n969\nin\n970\nin\nthere is a mismatch label\n971\nin\n972\nin\nthere is a mismatch label\n973\nin\n974\nin\n975\nin\n976\nin\n1243\nin\n1244\nin\n1245\nin\n1246\nin\n1247\nin\n1248\nin\n1249\nin\n1250\nin\n1251\nin\n1252\nin\n1253\nin\n1254\nin\n1255\nin\n1256\nin\nthere is a mismatch label\n1257\nin\n1258\nin\n1259\nin\n1260\nin\n1261\nin\n1262\nin\n1263\nin\n1264\nin\n1265\nin\n1266\nin\n1267\nin\n1268\nin\n1269\nin\n1270\nin\n1271\nin\n1272\nin\n1273\nin\n1274\nin\n1275\nin\n1276\nin\n1277\nin\n1278\nin\n1279\nin\n1280\nin\n1281\nin\n1282\nin\n1283\nin\n1284\nin\n1285\nin\n1286\nin\n1287\nin\n1288\nin\n1289\nin\n1290\nin\n1291\nin\n1292\nin\n1293\nin\n1294\nin\n1295\nin\n1296\nin\n1297\nin\n1298\nin\n1299\nin\n1300\nin\n1301\nin\n1302\nin\n1303\nin\n1304\nin\n1305\nin\n1306\nin\n1307\nin\n1308\nin\n1309\nin\n1310\nin\n1311\nin\n1312\nin\n1313\nin\n1314\nin\n1315\nin\n1316\nin\n1317\nin\n1318\nin\n1319\nin\n1320\nin\n1321\nin\n1322\nin\n1323\nin\n1324\nin\n1325\nin\n1326\nin\n1327\nin\nthere is a mismatch label\nthere is a mismatch label\nthere is a mismatch label\n1328\nin\n1329\nin\n1330\nin\n1331\nin\n1332\nin\n1333\nin\n1334\nin\nparsing manuscript  3158466\n701\nin\nthere is a mismatch label\nthere is a mismatch label\nthere is a mismatch label\n702\nin\n703\nin\nthere is a mismatch label\nthere is a mismatch label\n704\nin\nthere is a mismatch label\n705\nin\nthere is a mismatch label\nthere is a mismatch label\nthere is a mismatch label\nthere is a mismatch label\nthere is a mismatch label\nthere is a mismatch label\n706\nin\nthere is a mismatch label\n707\nin\n708\nin\nthere is a mismatch label\n709\nin\n710\nin\n711\nin\n712\nin\n713\nin\n714\nin\n715\nin\n716\nin\n717\nin\n718\nin\n719\nin\n720\nin\nthere is a mismatch label\n721\nin\n722\nin\n723\nin\n724\nin\n725\nin\nthere is a mismatch label\n726\nin\n727\nin\n728\nin\nthere is a mismatch label\nthere is a mismatch label\n729\nin\nthere is a mismatch label\n730\nin\nthere is a mismatch label\n731\nin\n732\nin\n733\nin\n734\nin\nthere is a mismatch label\nthere is a mismatch label\n735\nin\n736\nin\nthere is a mismatch label\n737\nin\n738\nin\nthere is a mismatch label\n739\nin\n740\nin\n741\nin\nthere is a mismatch label\nthere is a mismatch label\n742\nin\n743\nin\n744\nin\n745\nin\n746\nin\n747\nin\nthere is a mismatch label\n817\nin\n818\nin\n819\nin\n820\nin\n821\nin\n822\nin\n823\nin\n824\nin\n825\nin\n826\nin\n827\nin\n828\nin\n829\nin\n830\nin\n831\nin\n832\nin\n833\nin\n834\nin\n835\nin\n836\nin\n837\nin\n838\nin\n839\nin\nthere is a mismatch label\n840\nin\n841\nin\n842\nin\n843\nin\n844\nin\n845\nin\n846\nin\n847\nin\n848\nin\nthere is a mismatch label\nthere is a mismatch label\nthere is a mismatch label\nthere is a mismatch label\nthere is a mismatch label\nthere is a mismatch label\nthere is a mismatch label\nthere is a mismatch label\nthere is a mismatch label\nthere is a mismatch label\nthere is a mismatch label\nthere is a mismatch label\nthere is a mismatch label\nthere is a mismatch label\nthere is a mismatch label\nthere is a mismatch label\nthere is a mismatch label\nthere is a mismatch label\nthere is a mismatch label\nthere is a mismatch label\nthere is a mismatch label\nthere is a mismatch label\nthere is a mismatch label\nthere is a mismatch label\nthere is a mismatch label\nthere is a mismatch label\nthere is a mismatch label\nthere is a mismatch label\nthere is a mismatch label\nthere is a mismatch label\nthere is a mismatch label\nthere is a mismatch label\nthere is a mismatch label\nthere is a mismatch label\nthere is a mismatch label\n849\nin\nthere is a mismatch label\n850\nin\n851\nin\n852\nin\n853\nin\n854\nin\n855\nin\n856\nin\n857\nin\n858\nin\n859\nin\n860\nin\n861\nin\n862\nin\n863\nin\n864\nin\n865\nin\n866\nin\n867\nin\n868\nin\n869\nin\n870\nin\n871\nin\n872\nin\n873\nin\n874\nin\n875\nin\n876\nin\n877\nin\n878\nin\nthere is a mismatch label\n879\nin\n880\nin\n881\nin\n882\nin\n883\nin\n884\nin\n885\nin\n886\nin\n887\nin\nthere is a mismatch label\nthere is a mismatch label\nthere is a mismatch label\n888\nin\nthere is a mismatch label\n889\nin\n890\nin\n891\nin\n892\nin\n893\nin\n894\nin\n895\nin\n896\nin\n897\nin\n898\nin\n899\nin\n900\nin\n901\nin\n902\nin\n903\nin\n904\nin\n905\nin\n906\nin\n909\nin\n910\nin\n1773\nin\nparsing manuscript  3249138\n1001\nin\n1002\nin\nthere is a mismatch label\n1003\nin\n1004\nin\nthere is a mismatch label\nthere is a mismatch label\n1005\nin\n1006\nin\nthere is a mismatch label\nthere is a mismatch label\nthere is a mismatch label\nthere is a mismatch label\n1007\nin\nthere is a mismatch label\n1008\nin\n1009\nin\nthere is a mismatch label\n1010\nin\n1017\nin\nthere is a mismatch label\nthere is a mismatch label\nthere is a mismatch label\nthere is a mismatch label\n1018\nin\n1019\nin\n1020\nin\n1021\nin\n1022\nin\n1029\nin\n1030\nin\n1031\nin\n1032\nin\n1033\nin\n1034\nin\nthere is a mismatch label\n1041\nin\n1042\nin\n1043\nin\n1044\nin\n1045\nin\nthere is a mismatch label\nthere is a mismatch label\n1046\nin\nthere is a mismatch label\n1047\nin\n1048\nin\nthere is a mismatch label\n1049\nin\nthere is a mismatch label\n1050\nin\n1051\nin\nthere is a mismatch label\n1052\nin\n1053\nin\nthere is a mismatch label\nthere is a mismatch label\n1054\nin\n1055\nin\n1056\nin\n1057\nin\n1058\nin\n1059\nin\nthere is a mismatch label\nthere is a mismatch label\n1060\nin\n1061\nin\n1062\nin\n1063\nin\n1064\nin\n1065\nin\n1066\nin\nthere is a mismatch label\nthere is a mismatch label\n1067\nin\n1068\nin\n1069\nin\n1070\nin\n1071\nin\n1072\nin\nthere is a mismatch label\n1073\nin\n1074\nin\nthere is a mismatch label\n1075\nin\nthere is a mismatch label\n1076\nin\n1077\nin\n1078\nin\nthere is a mismatch label\n1079\nin\nthere is a mismatch label\nthere is a mismatch label\n1080\nin\nthere is a mismatch label\nthere is a mismatch label\n1081\nin\nthere is a mismatch label\n1082\nin\n1083\nin\nthere is a mismatch label\n1084\nin\nthere is a mismatch label\nthere is a mismatch label\n1085\nin\nthere is a mismatch label\n1086\nin\nthere is a mismatch label\n1087\nin\nthere is a mismatch label\n1088\nin\n1089\nin\nthere is a mismatch label\n1090\nin\n1091\nin\nthere is a mismatch label\nthere is a mismatch label\nthere is a mismatch label\nthere is a mismatch label\n1092\nin\nthere is a mismatch label\nthere is a mismatch label\n1093\nin\n1094\nin\nthere is a mismatch label\nthere is a mismatch label\n1095\nin\n1096\nin\nthere is a mismatch label\n1097\nin\n1098\nin\n1099\nin\nthere is a mismatch label\n1100\nin\nthere is a mismatch label\n1101\nin\n1102\nin\n1103\nin\n1104\nin\n1105\nin\n1106\nin\n1107\nin\nthere is a mismatch label\n1108\nin\n1109\nin\n1110\nin\n1111\nin\nthere is a mismatch label\nthere is a mismatch label\n1112\nin\n1113\nin\nthere is a mismatch label\n1114\nin\nthere is a mismatch label\n1115\nin\n1116\nin\n1117\nin\n1118\nin\n1119\nin\n1120\nin\nparsing manuscript  3368132\n748\nin\n749\nin\nthere is a mismatch label\n750\nin\nthere is a mismatch label\n751\nin\nthere is a mismatch label\n752\nin\nthere is a mismatch label\n753\nin\n754\nin\nthere is a mismatch label\n755\nin\n756\nin\n757\nin\n758\nin\nthere is a mismatch label\n759\nin\n760\nin\nthere is a mismatch label\n761\nin\nthere is a mismatch label\n762\nin\n763\nin\nthere is a mismatch label\n764\nin\nthere is a mismatch label\n765\nin\nthere is a mismatch label\nthere is a mismatch label\nthere is a mismatch label\nthere is a mismatch label\nthere is a mismatch label\nthere is a mismatch label\n766\nin\nthere is a mismatch label\nthere is a mismatch label\n767\nin\nthere is a mismatch label\n768\nin\n769\nin\n770\nin\n771\nin\nthere is a mismatch label\nthere is a mismatch label\n772\nin\nthere is a mismatch label\nthere is a mismatch label\nthere is a mismatch label\nthere is a mismatch label\n773\nin\nthere is a mismatch label\nthere is a mismatch label\n774\nin\n775\nin\nthere is a mismatch label\n776\nin\n777\nin\n778\nin\n779\nin\n977\nin\n978\nin\n979\nin\nthere is a mismatch label\n980\nin\n981\nin\n982\nin\n983\nin\n984\nin\nthere is a mismatch label\n985\nin\n986\nin\n987\nin\n988\nin\n989\nin\n990\nin\n991\nin\n992\nin\nthere is a mismatch label\n993\nin\nthere is a mismatch label\nthere is a mismatch label\nthere is a mismatch label\n994\nin\nthere is a mismatch label\n995\nin\nthere is a mismatch label\n996\nin\nthere is a mismatch label\n997\nin\nthere is a mismatch label\n998\nin\n999\nin\nthere is a mismatch label\nthere is a mismatch label\n1000\nin\nthere is a mismatch label\nthere is a mismatch label\n1011\nin\nthere is a mismatch label\nthere is a mismatch label\n1012\nin\nthere is a mismatch label\nthere is a mismatch label\n1013\nin\nthere is a mismatch label\n1014\nin\n1015\nin\nthere is a mismatch label\n1016\nin\n1023\nin\nthere is a mismatch label\n1024\nin\n1025\nin\n1026\nin\n1027\nin\n1028\nin\n1035\nin\nthere is a mismatch label\nthere is a mismatch label\n1036\nin\n1037\nin\n1038\nin\n1039\nin\n1040\nin\n1121\nin\n1122\nin\n1123\nin\n1124\nin\n1125\nin\n1126\nin\n1127\nin\n1128\nin\n1129\nin\n1130\nin\n1131\nin\n1132\nin\n1133\nin\nthere is a mismatch label\n1134\nin\n1135\nin\n1136\nin\n1137\nin\nthere is a mismatch label\n1138\nin\n1139\nin\n1140\nin\nparsing manuscript  3426930\n1141\nin\nthere is a mismatch label\nthere is a mismatch label\nthere is a mismatch label\n1142\nin\nthere is a mismatch label\nthere is a mismatch label\n1143\nin\nthere is a mismatch label\nthere is a mismatch label\nthere is a mismatch label\nthere is a mismatch label\nthere is a mismatch label\nthere is a mismatch label\nthere is a mismatch label\n1144\nin\nthere is a mismatch label\nthere is a mismatch label\nthere is a mismatch label\nthere is a mismatch label\n1145\nin\nthere is a mismatch label\nthere is a mismatch label\nthere is a mismatch label\n1146\nin\nthere is a mismatch label\nthere is a mismatch label\n1147\nin\nthere is a mismatch label\nthere is a mismatch label\nthere is a mismatch label\n1148\nin\n1149\nin\nthere is a mismatch label\n1150\nin\nthere is a mismatch label\nthere is a mismatch label\nthere is a mismatch label\n1151\nin\nthere is a mismatch label\nthere is a mismatch label\n1152\nin\nthere is a mismatch label\n1153\nin\nthere is a mismatch label\nthere is a mismatch label\nthere is a mismatch label\n1154\nin\n1155\nin\nthere is a mismatch label\n1156\nin\nthere is a mismatch label\n1157\nin\n1158\nin\n1159\nin\n1160\nin\n1161\nin\nthere is a mismatch label\n1162\nin\n1163\nin\n1164\nin\n1165\nin\n1166\nin\nthere is a mismatch label\n1167\nin\n1168\nin\nthere is a mismatch label\n1169\nin\n1170\nin\n1171\nin\n1172\nin\n1173\nin\nthere is a mismatch label\n1174\nin\nthere is a mismatch label\n1175\nin\n1176\nin\n1177\nin\nthere is a mismatch label\n1178\nin\nthere is a mismatch label\nthere is a mismatch label\n1179\nin\n1180\nin\nthere is a mismatch label\n1181\nin\n1182\nin\nthere is a mismatch label\n1183\nin\nthere is a mismatch label\n1184\nin\nthere is a mismatch label\n1185\nin\n1186\nin\n1187\nin\n1188\nin\n1189\nin\nthere is a mismatch label\nthere is a mismatch label\n1190\nin\n1191\nin\n1192\nin\n1193\nin\nthere is a mismatch label\n1194\nin\nthere is a mismatch label\n1195\nin\n1196\nin\n1197\nin\nthere is a mismatch label\nthere is a mismatch label\nthere is a mismatch label\n1198\nin\n1199\nin\nthere is a mismatch label\nthere is a mismatch label\n1200\nin\n1201\nin\n1202\nin\n1203\nin\n1204\nin\n1205\nin\n1206\nin\n1207\nin\n1208\nin\n1209\nin\nthere is a mismatch label\n1210\nin\n1211\nin\n1212\nin\nthere is a mismatch label\n1213\nin\n1214\nin\n1215\nin\n1216\nin\n1217\nin\n1218\nin\n1219\nin\n1220\nin\n1221\nin\n1222\nin\n1223\nin\nthere is a mismatch label\n1224\nin\n1225\nin\n1226\nin\n1227\nin\n1228\nin\n1229\nin\n1230\nin\nthere is a mismatch label\n1231\nin\n1232\nin\n1233\nin\nthere is a mismatch label\n1234\nin\nthere is a mismatch label\n1235\nin\n1236\nin\nthere is a mismatch label\n1237\nin\n1238\nin\n1239\nin\n1240\nin\n1241\nin\n1242\nin\n1336\nin\n1337\nin\nthere is a mismatch label\n1338\nin\n1339\nin\n1340\nin\n1341\nin\n1342\nin\n1343\nin\n1344\nin\n1345\nin\n1346\nin\n1347\nin\n1348\nin\n1349\nin\n1350\nin\n1351\nin\n1352\nin\n1353\nin\n1354\nin\n1355\nin\n1356\nin\n1357\nin\n1358\nin\n1359\nin\n1360\nin\n1361\nin\n1362\nin\n1363\nin\n1364\nin\n1365\nin\n1366\nin\n1367\nin\n1368\nin\n1369\nin\n1370\nin\n1371\nin\n1372\nin\n1373\nin\n"
        }
      ],
      "execution_count": 2,
      "metadata": {
        "jupyter": {
          "source_hidden": false,
          "outputs_hidden": false
        },
        "nteract": {
          "transient": {
            "deleting": false
          }
        },
        "gather": {
          "logged": 1646407068765
        }
      }
    },
    {
      "cell_type": "markdown",
      "source": [
        "# Cleanup dataset"
      ],
      "metadata": {
        "nteract": {
          "transient": {
            "deleting": false
          }
        }
      }
    },
    {
      "cell_type": "code",
      "source": [
        "import os\r\n",
        "import shutil\r\n",
        "\r\n",
        "folder = 'segdata'\r\n",
        "# Delete these folders\r\n",
        "for classfolder in os.listdir(folder):\r\n",
        "    length = len(os.listdir(folder + '/' + classfolder))\r\n",
        "    deleted_folders = [\"k\", \"mislabel\", \"ءء\", \"ءل\", \"ءه\", \"ءية\"]\r\n",
        "    if length <= 0 or (classfolder in deleted_folders):\r\n",
        "        print(\"deleting\"+ classfolder +\"...\")\r\n",
        "        shutil.rmtree(folder + '/' + classfolder)\r\n",
        "\r\n",
        "\r\n",
        "# special case for ا\r\n",
        "images = os.listdir(folder + '/' + 'ا')\r\n",
        "images = images[:20]\r\n",
        "for image in images:\r\n",
        "    print(\"copying \" + image)\r\n",
        "    shutil.copy(folder + '/' + 'ا' + '/' + image, folder + '/' + \"اا\")\r\n",
        "\r\n",
        "\r\n",
        "## After transferred delete previous one and rename new one\r\n",
        "shutil.rmtree(folder + '/' + 'ا')\r\n",
        "os.rename(folder + '/' +'اا', folder + '/' + 'ا')"
      ],
      "outputs": [
        {
          "output_type": "stream",
          "name": "stdout",
          "text": "copying 1000-112239.png\n"
        },
        {
          "output_type": "error",
          "ename": "FileNotFoundError",
          "evalue": "[Errno 2] No such file or directory: '1000-112239.png'",
          "traceback": [
            "\u001b[0;31m---------------------------------------------------------------------------\u001b[0m",
            "\u001b[0;31mFileNotFoundError\u001b[0m                         Traceback (most recent call last)",
            "Input \u001b[0;32mIn [3]\u001b[0m, in \u001b[0;36m<module>\u001b[0;34m\u001b[0m\n\u001b[1;32m     11\u001b[0m \u001b[38;5;28;01mfor\u001b[39;00m image \u001b[38;5;129;01min\u001b[39;00m images:\n\u001b[1;32m     12\u001b[0m     \u001b[38;5;28mprint\u001b[39m(\u001b[38;5;124m\"\u001b[39m\u001b[38;5;124mcopying \u001b[39m\u001b[38;5;124m\"\u001b[39m \u001b[38;5;241m+\u001b[39m image)\n\u001b[0;32m---> 13\u001b[0m     \u001b[43mshutil\u001b[49m\u001b[38;5;241;43m.\u001b[39;49m\u001b[43mcopy\u001b[49m\u001b[43m(\u001b[49m\u001b[43mimage\u001b[49m\u001b[43m,\u001b[49m\u001b[43m \u001b[49m\u001b[43mfolder\u001b[49m\u001b[43m \u001b[49m\u001b[38;5;241;43m+\u001b[39;49m\u001b[43m \u001b[49m\u001b[38;5;124;43m'\u001b[39;49m\u001b[38;5;124;43m/\u001b[39;49m\u001b[38;5;124;43m'\u001b[39;49m\u001b[43m \u001b[49m\u001b[38;5;241;43m+\u001b[39;49m\u001b[43m \u001b[49m\u001b[38;5;124;43m\"\u001b[39;49m\u001b[38;5;124;43mاا\u001b[39;49m\u001b[38;5;124;43m\"\u001b[39;49m\u001b[43m)\u001b[49m\n\u001b[1;32m     16\u001b[0m \u001b[38;5;66;03m## After transferred delete previous one and rename new one\u001b[39;00m\n\u001b[1;32m     17\u001b[0m os\u001b[38;5;241m.\u001b[39mrmdir(folder \u001b[38;5;241m+\u001b[39m \u001b[38;5;124m'\u001b[39m\u001b[38;5;124m/\u001b[39m\u001b[38;5;124m'\u001b[39m \u001b[38;5;241m+\u001b[39m \u001b[38;5;124m'\u001b[39m\u001b[38;5;124mا\u001b[39m\u001b[38;5;124m'\u001b[39m)\n",
            "File \u001b[0;32m/anaconda/envs/azureml_py38/lib/python3.8/shutil.py:409\u001b[0m, in \u001b[0;36mcopy\u001b[0;34m(src, dst, follow_symlinks)\u001b[0m\n\u001b[1;32m    407\u001b[0m \u001b[38;5;28;01mif\u001b[39;00m os\u001b[38;5;241m.\u001b[39mpath\u001b[38;5;241m.\u001b[39misdir(dst):\n\u001b[1;32m    408\u001b[0m     dst \u001b[38;5;241m=\u001b[39m os\u001b[38;5;241m.\u001b[39mpath\u001b[38;5;241m.\u001b[39mjoin(dst, os\u001b[38;5;241m.\u001b[39mpath\u001b[38;5;241m.\u001b[39mbasename(src))\n\u001b[0;32m--> 409\u001b[0m \u001b[43mcopyfile\u001b[49m\u001b[43m(\u001b[49m\u001b[43msrc\u001b[49m\u001b[43m,\u001b[49m\u001b[43m \u001b[49m\u001b[43mdst\u001b[49m\u001b[43m,\u001b[49m\u001b[43m \u001b[49m\u001b[43mfollow_symlinks\u001b[49m\u001b[38;5;241;43m=\u001b[39;49m\u001b[43mfollow_symlinks\u001b[49m\u001b[43m)\u001b[49m\n\u001b[1;32m    410\u001b[0m copymode(src, dst, follow_symlinks\u001b[38;5;241m=\u001b[39mfollow_symlinks)\n\u001b[1;32m    411\u001b[0m \u001b[38;5;28;01mreturn\u001b[39;00m dst\n",
            "File \u001b[0;32m/anaconda/envs/azureml_py38/lib/python3.8/shutil.py:259\u001b[0m, in \u001b[0;36mcopyfile\u001b[0;34m(src, dst, follow_symlinks)\u001b[0m\n\u001b[1;32m    257\u001b[0m     os\u001b[38;5;241m.\u001b[39msymlink(os\u001b[38;5;241m.\u001b[39mreadlink(src), dst)\n\u001b[1;32m    258\u001b[0m \u001b[38;5;28;01melse\u001b[39;00m:\n\u001b[0;32m--> 259\u001b[0m     \u001b[38;5;28;01mwith\u001b[39;00m \u001b[38;5;28;43mopen\u001b[39;49m\u001b[43m(\u001b[49m\u001b[43msrc\u001b[49m\u001b[43m,\u001b[49m\u001b[43m \u001b[49m\u001b[38;5;124;43m'\u001b[39;49m\u001b[38;5;124;43mrb\u001b[39;49m\u001b[38;5;124;43m'\u001b[39;49m\u001b[43m)\u001b[49m \u001b[38;5;28;01mas\u001b[39;00m fsrc, \u001b[38;5;28mopen\u001b[39m(dst, \u001b[38;5;124m'\u001b[39m\u001b[38;5;124mwb\u001b[39m\u001b[38;5;124m'\u001b[39m) \u001b[38;5;28;01mas\u001b[39;00m fdst:\n\u001b[1;32m    260\u001b[0m         \u001b[38;5;66;03m# macOS\u001b[39;00m\n\u001b[1;32m    261\u001b[0m         \u001b[38;5;28;01mif\u001b[39;00m _HAS_FCOPYFILE:\n\u001b[1;32m    262\u001b[0m             \u001b[38;5;28;01mtry\u001b[39;00m:\n",
            "\u001b[0;31mFileNotFoundError\u001b[0m: [Errno 2] No such file or directory: '1000-112239.png'"
          ]
        }
      ],
      "execution_count": 3,
      "metadata": {
        "jupyter": {
          "source_hidden": false,
          "outputs_hidden": false
        },
        "nteract": {
          "transient": {
            "deleting": false
          }
        }
      }
    },
    {
      "cell_type": "markdown",
      "source": [
        "# Data augmentation"
      ],
      "metadata": {
        "nteract": {
          "transient": {
            "deleting": false
          }
        }
      }
    },
    {
      "cell_type": "code",
      "source": [
        "import numpy as np\r\n",
        "import cv2\r\n",
        "import os\r\n",
        "import random\r\n",
        "\r\n",
        "\r\n",
        "def homographyAugmentation(img, random_limits = (0.9, 1.1)):\r\n",
        "        '''\r\n",
        "        Creates an augmentation by computing a homography from three\r\n",
        "        points in the image to three randomly generated points\r\n",
        "        '''\r\n",
        "        y, x = img.shape[:2]\r\n",
        "        fx = float(x)\r\n",
        "        fy = float(y)\r\n",
        "        src_point = np.float32([[fx / 2, fy / 3, ],\r\n",
        "                                [2 * fx / 3, 2 * fy / 3],\r\n",
        "                                [fx / 3, 2 * fy / 3]])\r\n",
        "        random_shift = (np.random.rand(3, 2) - 0.5) * 2 * (random_limits[1] - random_limits[0]) / 2 + np.mean(\r\n",
        "            random_limits)\r\n",
        "        dst_point = src_point * random_shift.astype(np.float32)\r\n",
        "        transform = cv2.getAffineTransform(src_point, dst_point)\r\n",
        "        # border_value = 0\r\n",
        "        if img.ndim == 3:\r\n",
        "            border_value = np.median(np.reshape(img, (img.shape[0] * img.shape[1], -1)), axis=0)\r\n",
        "        else:\r\n",
        "            border_value = np.median(img)\r\n",
        "        warped_img = cv2.warpAffine(img, transform, dsize=(x, y), borderValue=border_value.astype(float))\r\n",
        "        return warped_img\r\n",
        "\r\n",
        "\r\n",
        "folder = 'segdata'\r\n",
        "os.chdir(folder)\r\n",
        "label=0\r\n",
        "for classfolder in os.listdir(os.getcwd()):\r\n",
        "    # rename to fix arabic path problem\r\n",
        "    l = len(str(label))\r\n",
        "    z = 5 - l\r\n",
        "    a = ''\r\n",
        "    for i in range(z):\r\n",
        "        a += '0'\r\n",
        "    labelValue = a + str(label)\r\n",
        "    os.rename(classfolder, labelValue)\r\n",
        "\r\n",
        "    images = os.listdir(os.getcwd() + '/' + labelValue)\r\n",
        "    length = len(images)\r\n",
        "    if 0 < length <= 20:\r\n",
        "        print(\"augmenting \" + classfolder + \" ...\")\r\n",
        "        for i in range(40):\r\n",
        "            randIndex = random.randint(1, length)\r\n",
        "            randIndex = randIndex - 1\r\n",
        "            imgName = str(images[randIndex])\r\n",
        "            img = cv2.imread(os.getcwd() + '/' + labelValue + '/' + imgName)\r\n",
        "            if img.any():\r\n",
        "                img = homographyAugmentation(img=img)\r\n",
        "                cv2.imwrite(os.getcwd() + '/' + labelValue + '/' + \"augmented_\" + str(i) + '.png', img)\r\n",
        "    # rename back to its original label\r\n",
        "    os.rename(labelValue, classfolder)\r\n",
        "    label = label + 1"
      ],
      "outputs": [
        {
          "output_type": "stream",
          "name": "stdout",
          "text": "augmenting 00235 ...\n"
        },
        {
          "output_type": "error",
          "ename": "PermissionError",
          "evalue": "[Errno 13] Permission denied: 'بطة' -> '00235'",
          "traceback": [
            "\u001b[0;31m---------------------------------------------------------------------------\u001b[0m",
            "\u001b[0;31mPermissionError\u001b[0m                           Traceback (most recent call last)",
            "Input \u001b[0;32mIn [1]\u001b[0m, in \u001b[0;36m<module>\u001b[0;34m\u001b[0m\n\u001b[1;32m     40\u001b[0m     a \u001b[38;5;241m+\u001b[39m\u001b[38;5;241m=\u001b[39m \u001b[38;5;124m'\u001b[39m\u001b[38;5;124m0\u001b[39m\u001b[38;5;124m'\u001b[39m\n\u001b[1;32m     41\u001b[0m labelValue \u001b[38;5;241m=\u001b[39m a \u001b[38;5;241m+\u001b[39m \u001b[38;5;28mstr\u001b[39m(label)\n\u001b[0;32m---> 42\u001b[0m \u001b[43mos\u001b[49m\u001b[38;5;241;43m.\u001b[39;49m\u001b[43mrename\u001b[49m\u001b[43m(\u001b[49m\u001b[43mclassfolder\u001b[49m\u001b[43m,\u001b[49m\u001b[43m \u001b[49m\u001b[43mlabelValue\u001b[49m\u001b[43m)\u001b[49m\n\u001b[1;32m     44\u001b[0m images \u001b[38;5;241m=\u001b[39m os\u001b[38;5;241m.\u001b[39mlistdir(os\u001b[38;5;241m.\u001b[39mgetcwd() \u001b[38;5;241m+\u001b[39m \u001b[38;5;124m'\u001b[39m\u001b[38;5;124m/\u001b[39m\u001b[38;5;124m'\u001b[39m \u001b[38;5;241m+\u001b[39m labelValue)\n\u001b[1;32m     45\u001b[0m length \u001b[38;5;241m=\u001b[39m \u001b[38;5;28mlen\u001b[39m(images)\n",
            "\u001b[0;31mPermissionError\u001b[0m: [Errno 13] Permission denied: 'بطة' -> '00235'"
          ]
        }
      ],
      "execution_count": 1,
      "metadata": {
        "jupyter": {
          "source_hidden": false,
          "outputs_hidden": false
        },
        "nteract": {
          "transient": {
            "deleting": false
          }
        }
      }
    },
    {
      "cell_type": "markdown",
      "source": [
        "# Split dataset"
      ],
      "metadata": {
        "nteract": {
          "transient": {
            "deleting": false
          }
        }
      }
    },
    {
      "cell_type": "code",
      "source": [
        "!pip install split-folders"
      ],
      "outputs": [
        {
          "output_type": "stream",
          "name": "stdout",
          "text": "Requirement already satisfied: split-folders in /anaconda/envs/azureml_py36/lib/python3.6/site-packages (0.5.1)\r\n"
        }
      ],
      "execution_count": 4,
      "metadata": {
        "jupyter": {
          "source_hidden": false,
          "outputs_hidden": false
        },
        "nteract": {
          "transient": {
            "deleting": false
          }
        }
      }
    },
    {
      "cell_type": "code",
      "source": [
        "import os\r\n",
        "import numpy as np\r\n",
        "import shutil\r\n",
        "import random\r\n",
        "import splitfolders\r\n",
        "\r\n",
        "# creating train / val /test\r\n",
        "root_dir = 'segdata/'\r\n",
        "new_root = 'dataset/'\r\n",
        "# classes = [folderClass for folderClass in os.listdir(root_dir)]\r\n",
        "splitfolders.ratio(root_dir, output=new_root, seed=1337, ratio=(.8, 0.1,0.1))\r\n",
        "#\r\n",
        "# ## creating partition of the data after shuffeling\r\n",
        "#\r\n",
        "# for cls in classes:\r\n",
        "#     src = root_dir + cls  # folder to copy images from\r\n",
        "#     print(src)\r\n",
        "#\r\n",
        "#     allFileNames = os.listdir(src)\r\n",
        "#     np.random.shuffle(allFileNames)\r\n",
        "#\r\n",
        "#     ## here 0.75 = training ratio , (0.95-0.75) = validation ratio , (1-0.95) =\r\n",
        "#     ##training ratio\r\n",
        "#     train_FileNames, val_FileNames, test_FileNames = np.split(np.array(allFileNames), [int(len(allFileNames) * 0.75),\r\n",
        "#                                                                                        int(len(allFileNames) * 0.95)])\r\n",
        "#\r\n",
        "#     # #Converting file names from array to list\r\n",
        "#\r\n",
        "#     train_FileNames = [src + '/' + name for name in train_FileNames]\r\n",
        "#     val_FileNames = [src + '/' + name for name in val_FileNames]\r\n",
        "#     test_FileNames = [src + '/' + name for name in test_FileNames]\r\n",
        "#\r\n",
        "#     print('Total images  : ' + cls + ' ' + str(len(allFileNames)))\r\n",
        "#     print('Training : ' + cls + ' ' + str(len(train_FileNames)))\r\n",
        "#     print('Validation : ' + cls + ' ' + str(len(val_FileNames)))\r\n",
        "#     print('Testing : ' + cls + ' ' + str(len(test_FileNames)))\r\n",
        "#\r\n",
        "#     ## Copy pasting images to target directory\r\n",
        "#\r\n",
        "#     for name in train_FileNames:\r\n",
        "#         shutil.copy(name, new_root + 'train/' + cls)\r\n",
        "#\r\n",
        "#     for name in val_FileNames:\r\n",
        "#         shutil.copy(name, new_root + 'val/' + cls)\r\n",
        "#\r\n",
        "#     for name in test_FileNames:\r\n",
        "#         shutil.copy(name, new_root + 'test/' + cls)"
      ],
      "outputs": [
        {
          "output_type": "stream",
          "name": "stderr",
          "text": "Copying files: 166889 files [12:33:32,  3.69 files/s]\n"
        }
      ],
      "execution_count": 6,
      "metadata": {
        "jupyter": {
          "source_hidden": false,
          "outputs_hidden": false
        },
        "nteract": {
          "transient": {
            "deleting": false
          }
        },
        "gather": {
          "logged": 1646460566185
        }
      }
    }
  ],
  "metadata": {
    "kernelspec": {
      "name": "python3",
      "language": "python",
      "display_name": "Python 3"
    },
    "language_info": {
      "name": "python",
      "version": "3.8.1",
      "mimetype": "text/x-python",
      "codemirror_mode": {
        "name": "ipython",
        "version": 3
      },
      "pygments_lexer": "ipython3",
      "nbconvert_exporter": "python",
      "file_extension": ".py"
    },
    "nteract": {
      "version": "nteract-front-end@1.0.0"
    },
    "kernel_info": {
      "name": "python3"
    }
  },
  "nbformat": 4,
  "nbformat_minor": 2
}