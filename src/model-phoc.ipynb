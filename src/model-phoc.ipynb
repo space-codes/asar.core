{
  "cells": [
    {
      "cell_type": "code",
      "source": [
        "from tensorflow.keras.layers import Conv2D, Dense, Dropout, MaxPooling2D, Flatten\n",
        "from tensorflow.keras.models import load_model, Sequential\n",
        "from tensorflow.keras import losses\n",
        "from tensorflow.keras import backend as K\n",
        "import matplotlib.pyplot as plt\n",
        "from tensorflow_addons.layers import SpatialPyramidPooling2D\n",
        "import numpy as np\n",
        "from imageio import imread\n",
        "import pandas as pd\n",
        "import math\n",
        "import os\n",
        "import tensorflow\n",
        "from tensorflow.keras.utils import Sequence\n",
        "from tensorflow.keras.preprocessing.image import img_to_array, ImageDataGenerator, load_img\n",
        "import random\n",
        "import sys"
      ],
      "outputs": [],
      "execution_count": 1,
      "metadata": {
        "gather": {
          "logged": 1647604602056
        },
        "lines_to_next_cell": 1
      },
      "id": "4b5ceeee"
    },
    {
      "cell_type": "markdown",
      "source": [
        "## Register logging to save output"
      ],
      "metadata": {
        "nteract": {
          "transient": {
            "deleting": false
          }
        }
      },
      "id": "034cdf86-2130-47ec-bc4c-3ff2f8a3e9db"
    },
    {
      "cell_type": "code",
      "source": [
        "import sys\n",
        "\n",
        "old_stdout = sys.stdout\n",
        "log_file = open(\"training.log\",\"w\")\n",
        "sys.stdout = log_file"
      ],
      "outputs": [],
      "execution_count": 2,
      "metadata": {
        "gather": {
          "logged": 1647604602203
        },
        "jupyter": {
          "outputs_hidden": false,
          "source_hidden": false
        },
        "nteract": {
          "transient": {
            "deleting": false
          }
        }
      },
      "id": "2cca1b53-33e4-4979-a587-98a0a0dbdea2"
    },
    {
      "cell_type": "code",
      "source": [
        "# DataSequence class to pass data(images/vector) in batches\n",
        "class DataSequence(Sequence):\n",
        "    def __init__(self, imagefiles, labels, batch_size):\n",
        "        self.bsz = batch_size  # batch size\n",
        "\n",
        "        # Take labels and a list of image locations in memory\n",
        "        self.labels = labels\n",
        "        self.im_list = imagefiles\n",
        "\n",
        "    def __len__(self):\n",
        "        # compute number of batches to yield\n",
        "        return int(math.ceil(len(self.im_list) / float(self.bsz)))\n",
        "\n",
        "    def on_epoch_end(self):\n",
        "        # Shuffles indexes after each epoch if in training mode\n",
        "        self.indexes = range(len(self.im_list))\n",
        "        self.indexes = random.sample(self.indexes, k=len(self.indexes))\n",
        "\n",
        "    def get_batch_labels(self, idx):\n",
        "        # Fetch a batch of labels\n",
        "        return np.array(self.labels[idx * self.bsz: (idx + 1) * self.bsz])\n",
        "\n",
        "    def get_batch_features(self, idx):\n",
        "        # Fetch a batch of inputs\n",
        "        return np.array([img_to_array(load_img(im, target_size=(110, 110))) for im in self.im_list[idx * self.bsz: (1 + idx) * self.bsz]])\n",
        "\n",
        "    def __getitem__(self, idx):\n",
        "        batch_x = self.get_batch_features(idx)\n",
        "        batch_y = self.get_batch_labels(idx)\n",
        "        return batch_x, batch_y"
      ],
      "outputs": [],
      "execution_count": 3,
      "metadata": {
        "gather": {
          "logged": 1647604602639
        }
      },
      "id": "968d2b9e"
    },
    {
      "cell_type": "code",
      "source": [
        "def base_model(img_width, img_height, weight_path=None):\n",
        "    if K.image_data_format() == 'channels_first':\n",
        "        input_shapes = (3, img_width, img_height)\n",
        "    else:\n",
        "        input_shapes = (img_width, img_height, 3)\n",
        "\n",
        "    model = Sequential()\n",
        "    model.add(Conv2D(64, (3, 3), padding='same',\n",
        "                     activation='relu', input_shape=input_shapes))\n",
        "    model.add(Conv2D(64, (3, 3), padding='same', activation='relu'))\n",
        "    model.add(Conv2D(64, (3, 3), padding='same', activation='relu'))\n",
        "    model.add(MaxPooling2D(pool_size=(2, 2), strides=2))\n",
        "    model.add(Conv2D(128, (3, 3), padding='same', activation='relu'))\n",
        "    model.add(Conv2D(128, (3, 3), padding='same', activation='relu'))\n",
        "    model.add(MaxPooling2D(pool_size=(2, 2), strides=2))\n",
        "    model.add(Conv2D(256, (3, 3), padding='same', activation='relu'))\n",
        "    model.add(Conv2D(256, (3, 3), padding='same', activation='relu'))\n",
        "    model.add(Conv2D(256, (3, 3), padding='same', activation='relu'))\n",
        "    model.add(Conv2D(256, (3, 3), padding='same', activation='relu'))\n",
        "    model.add(Conv2D(256, (3, 3), padding='same', activation='relu'))\n",
        "    model.add(Conv2D(256, (3, 3), padding='same', activation='relu'))\n",
        "    model.add(Conv2D(512, (3, 3), padding='same', activation='relu'))\n",
        "    model.add(Conv2D(512, (3, 3), padding='same', activation='relu'))\n",
        "    model.add(Conv2D(512, (3, 3), padding='same', activation='relu'))\n",
        "    model.add(SpatialPyramidPooling2D([1, 2, 4]))\n",
        "    model.add(Flatten())\n",
        "    model.add(Dense(4096, activation='relu'))\n",
        "    model.add(Dropout(0.5))\n",
        "    model.add(Dense(4096, activation='relu'))\n",
        "    model.add(Dropout(0.5))\n",
        "    model.add(Dense(830, activation='sigmoid'))\n",
        "    from tensorflow.keras.optimizers import SGD, Adam, Adadelta\n",
        "\n",
        "    loss = losses.binary_crossentropy\n",
        "    optimizer = Adam(learning_rate=1e-4, beta_1=0.9, beta_2=0.999, epsilon=1e-07, decay=5e-5)\n",
        "    model.compile(loss=loss, optimizer=optimizer, metrics=[tensorflow.keras.metrics.CosineSimilarity(axis=1)])\n",
        "    if weight_path:\n",
        "        df = pd.read_pickle(weight_path)\n",
        "        tmp_weights = df.values\n",
        "        N = len(tmp_weights)\n",
        "        weights = []\n",
        "        for i in range(N):\n",
        "            weights.append(tmp_weights[i][0])\n",
        "        model.set_weights(weights)\n",
        "\n",
        "    model.summary()\n",
        "    from keras.utils.vis_utils import plot_model as plot\n",
        "\n",
        "    plot(model, to_file=\"phocnet.png\", show_shapes=True)\n",
        "    return model"
      ],
      "outputs": [],
      "execution_count": 4,
      "metadata": {
        "gather": {
          "logged": 1647604602791
        },
        "lines_to_next_cell": 1
      },
      "id": "764b542c"
    },
    {
      "cell_type": "code",
      "source": [
        "def get_generator_value(class_indicates, index):\n",
        "    key_list = list(class_indicates.keys())\n",
        "    val_list = list(class_indicates.values())\n",
        "    return key_list[val_list.index(index)]"
      ],
      "outputs": [],
      "execution_count": 5,
      "metadata": {
        "gather": {
          "logged": 1647604603003
        },
        "lines_to_next_cell": 1
      },
      "id": "c8846dff"
    },
    {
      "cell_type": "code",
      "source": [
        "'''This code will take an input word as in string and will\n",
        "output the PHOC label of the word. The Phoc label is a\n",
        "vector of length 3784.\n",
        "((2 + 3 + 4 + 5) * languageCharactersAndNumbersCount) + (2*commonBigram)\n",
        "((2+3+4+5) * 256) + (2*100) = 3784\n",
        "((2+3+4+5) * 45) + (2*100) = 830\n",
        "Reference: https://ieeexplore.ieee.org/document/6857995/?part=1\n",
        "'''\n",
        "\n",
        "def generate_45(word):\n",
        "  '''The vector is a binary and stands for:\n",
        "  https://en.wikipedia.org/wiki/Arabic_script_in_Unicode\n",
        "  arabic unicode characters is 256\n",
        "  '''\n",
        "  generate_45 = [0 for i in range(45)]\n",
        "  for char in word:\n",
        "      generate_45[ord(char) - ord('ا')] = 1\n",
        "\n",
        "  return generate_45\n",
        "\n",
        "def generate_100(word):\n",
        "  '''This vector is going to count the number of most frequent\n",
        "  bigram words found in the text\n",
        "  '''\n",
        "\n",
        "  bigram = ['لم', 'لل', 'ين', 'لت', 'لي', 'يت', 'لع', 'هم', 'لن', 'تم', 'في', 'عل',\n",
        "            'لب', 'ست', 'بي', 'يم', 'مت', 'ته', 'لح', 'لق', 'ما', 'لف', 'من', 'ها',\n",
        "            'له', 'كم', 'يس', 'مل', 'بت', 'لك', 'نا', 'لس', 'يب', 'بع', 'مس', 'سب',\n",
        "            'يع', 'تح', 'يل', 'فت', 'فل', 'مع', 'تع', 'لا', 'تن', 'تب', 'يح', 'يه',\n",
        "            'لج', 'فع', 'سم', 'تق', 'لش', 'ير', 'ني', 'يك', 'لو', 'مي', 'بم', 'نف',\n",
        "            'مح', 'تف', 'عن', 'لخ', 'سي', 'يق', 'قت', 'يف', 'حي', 'نص', 'عم', 'جم',\n",
        "            'به', 'بل', 'كت', 'نه', 'صي', 'نت', 'نق', 'تل', 'خل', 'لغ', 'لص', 'تك',\n",
        "            'با', 'تس', 'يا', 'نب', 'قب', 'مو', 'حم', 'عت', 'قل', 'يخ', 'عي', 'قي',\n",
        "            'مه', 'نس', 'تا', 'سن']\n",
        "\n",
        "  vector_100 = [0 for i in range(100)]\n",
        "  for char in word:\n",
        "    try:\n",
        "      vector_100[bigram.index(char)] = 1\n",
        "    except:\n",
        "      continue\n",
        "\n",
        "  return vector_100\n",
        "\n",
        "def generate_label(word):\n",
        "  word = word.lower()\n",
        "  vector = []\n",
        "  L = len(word)\n",
        "  for split in range(2, 6):\n",
        "    parts = L//split\n",
        "    for mul in range(split-1):\n",
        "      vector += generate_45(word[mul*parts:mul*parts+parts])\n",
        "    vector += generate_45(word[(split-1)*parts:L])\n",
        "\n",
        "  # Append the most common 100 bigram text using L2 split\n",
        "  vector += generate_100(word[0:L//2])\n",
        "  vector += generate_100(word[L//2: L])\n",
        "  return vector"
      ],
      "outputs": [],
      "execution_count": 6,
      "metadata": {
        "gather": {
          "logged": 1647604603140
        }
      },
      "id": "94b500ec"
    },
    {
      "cell_type": "markdown",
      "source": [
        "# prepate the data"
      ],
      "metadata": {
        "nteract": {
          "transient": {
            "deleting": false
          }
        }
      },
      "id": "26b296a7-95fd-46ad-aa6e-565c69595f9f"
    },
    {
      "cell_type": "code",
      "source": [
        "train_path = 'asar-dataset/train'\n",
        "test_path = 'asar-dataset/test'\n",
        "val_path = 'asar-dataset/val'\n",
        "\n",
        "train_datagen = ImageDataGenerator()"
      ],
      "outputs": [],
      "execution_count": 7,
      "metadata": {
        "gather": {
          "logged": 1647604603313
        }
      },
      "id": "965c6809"
    },
    {
      "cell_type": "code",
      "source": [
        "#val_datagen = ImageDataGenerator(rescale=1. / 255.)\n",
        "val_datagen = ImageDataGenerator()"
      ],
      "outputs": [],
      "execution_count": 8,
      "metadata": {
        "gather": {
          "logged": 1647604603453
        }
      },
      "id": "591bc6d3"
    },
    {
      "cell_type": "code",
      "source": [
        "test_datagen = ImageDataGenerator()"
      ],
      "outputs": [],
      "execution_count": 9,
      "metadata": {
        "gather": {
          "logged": 1647604603698
        }
      },
      "id": "db948ba5"
    },
    {
      "cell_type": "code",
      "source": [
        "train_generator = train_datagen.flow_from_directory(\n",
        "        # This is the target directory\n",
        "        train_path,\n",
        "        shuffle= False,\n",
        "        # All images will be resized to 150x150\n",
        "        target_size=(16, 16),\n",
        "        batch_size=1,\n",
        "        # binary: use binary_crossentropy loss, we need binary labels\n",
        "        # categorical : use categorical_crossentropy loss, then need categorical labels\n",
        "        class_mode='binary')"
      ],
      "outputs": [],
      "execution_count": 10,
      "metadata": {
        "gather": {
          "logged": 1647260057088
        }
      },
      "id": "0d87700f"
    },
    {
      "cell_type": "code",
      "source": [
        "val_generator = val_datagen.flow_from_directory(\n",
        "        # This is the target directory\n",
        "        val_path,\n",
        "        shuffle= False,\n",
        "        target_size=(16, 16),\n",
        "        batch_size=1,\n",
        "        class_mode='binary')"
      ],
      "outputs": [],
      "execution_count": null,
      "metadata": {
        "gather": {
          "logged": 1647260107802
        }
      },
      "id": "fea411c2"
    },
    {
      "cell_type": "code",
      "source": [
        "test_generator = test_datagen.flow_from_directory(\n",
        "        test_path,\n",
        "        shuffle= False,\n",
        "        target_size=(16, 16),\n",
        "        batch_size=1,\n",
        "        class_mode='binary')"
      ],
      "outputs": [],
      "execution_count": null,
      "metadata": {
        "gather": {
          "logged": 1647260159728
        }
      },
      "id": "0fa8f7ac"
    },
    {
      "cell_type": "code",
      "source": [
        "train_generator.reset()\n",
        "y_train = train_generator.labels\n",
        "X_train_files = [train_path + '/' + filename for filename in train_generator.filenames]\n",
        "\n",
        "val_generator.reset()\n",
        "y_val = val_generator.labels\n",
        "X_val_files = [val_path + '/' + filename for filename in val_generator.filenames]\n",
        "\n",
        "test_generator.reset()\n",
        "y_test = test_generator.labels\n",
        "X_test_files = [test_path + '/' + filename for filename in test_generator.filenames]"
      ],
      "outputs": [],
      "execution_count": null,
      "metadata": {},
      "id": "122b91d5"
    },
    {
      "cell_type": "code",
      "source": [
        "# num_of_classes = len(train_generator.class_indices)\n",
        "# test_transcripts = [get_generator_value(test_generator.class_indices, int(i)) for i in y_test]\n",
        "# test_transcripts = np.array(test_transcripts)\n",
        "y_train = [generate_label(get_generator_value(train_generator.class_indices, int(i))) for i in y_train]\n",
        "y_val = [generate_label(get_generator_value(val_generator.class_indices, int(i))) for i in y_val]\n",
        "y_test = [generate_label(get_generator_value(test_generator.class_indices, int(i))) for i in y_test]"
      ],
      "outputs": [],
      "execution_count": null,
      "metadata": {},
      "id": "5142b976"
    },
    {
      "cell_type": "code",
      "source": [
        "weight_path = 'phoc_weights.pkl'\n",
        "if os.path.exists(weight_path):\n",
        "    model = base_model(110, 110, weight_path= weight_path)\n",
        "else:\n",
        "    model = base_model(110, 110)"
      ],
      "outputs": [],
      "execution_count": null,
      "metadata": {},
      "id": "d63785f8"
    },
    {
      "cell_type": "code",
      "source": [
        "batch_size = 32\n",
        "train_sequence = DataSequence(imagefiles=X_train_files, labels= y_train,  batch_size=batch_size)\n",
        "valid_sequence = DataSequence(imagefiles=X_val_files, labels= y_val, batch_size=batch_size)"
      ],
      "outputs": [],
      "execution_count": null,
      "metadata": {},
      "id": "cade1d3e"
    },
    {
      "cell_type": "markdown",
      "source": [
        "# Train the data"
      ],
      "metadata": {
        "nteract": {
          "transient": {
            "deleting": false
          }
        }
      },
      "id": "5f521994-3053-4c91-b316-851035e4589e"
    },
    {
      "cell_type": "code",
      "source": [
        "for i in range(100):\n",
        "    model.fit(\n",
        "        train_sequence,\n",
        "        batch_size=batch_size,\n",
        "        epochs=5,\n",
        "        shuffle= True,\n",
        "        validation_data=valid_sequence,\n",
        "        verbose=1)\n",
        "\n",
        "    weights = model.get_weights()\n",
        "    df = pd.DataFrame(weights)\n",
        "    print(\"Saving the best model.......\")\n",
        "    model.save('phoc-model.h5')\n",
        "    df.to_pickle('phoc_weights.pkl')"
      ],
      "outputs": [],
      "execution_count": null,
      "metadata": {},
      "id": "3f96f7cf"
    },
    {
      "cell_type": "markdown",
      "source": [
        "close logging"
      ],
      "metadata": {
        "nteract": {
          "transient": {
            "deleting": false
          }
        }
      },
      "id": "4978f94f-3b33-420e-aaf2-93bf83b8b00a"
    },
    {
      "cell_type": "code",
      "source": [
        "sys.stdout = old_stdout\n",
        "log_file.close()"
      ],
      "outputs": [],
      "execution_count": null,
      "metadata": {
        "jupyter": {
          "outputs_hidden": false,
          "source_hidden": false
        },
        "nteract": {
          "transient": {
            "deleting": false
          }
        }
      },
      "id": "4cb21fcc-9fff-4a00-ab1e-9aeb439a548d"
    },
    {
      "cell_type": "markdown",
      "source": [
        "Create directory to store training history"
      ],
      "metadata": {},
      "id": "8d2bb7b2"
    },
    {
      "cell_type": "code",
      "source": [
        "#if not os.path.exists(\"Train_History\"):\n",
        "#    os.makedirs(\"Train_History\")"
      ],
      "outputs": [],
      "execution_count": null,
      "metadata": {},
      "id": "9b0ab6e4"
    },
    {
      "cell_type": "code",
      "source": [
        "# Store train history as CSV file\n",
        "# model_name=\"phoc-model\"\n",
        "# hist_df = pd.DataFrame(history.history)\n",
        "# hist_csv_file = 'Train_History/history_'+model_name+'.csv'\n",
        "# with open(hist_csv_file, mode='w') as f:\n",
        "#     hist_df.to_csv(f)"
      ],
      "outputs": [],
      "execution_count": null,
      "metadata": {},
      "id": "f41616a4"
    },
    {
      "cell_type": "markdown",
      "source": [
        "Plot train and validation accuracy(avg cosine similarity)"
      ],
      "metadata": {},
      "id": "c0d262f0"
    },
    {
      "cell_type": "code",
      "source": [
        "# acc = history.history['cosine_similarity']\n",
        "# val_acc = history.history['val_cosine_similarity']\n",
        "# loss = history.history['loss']\n",
        "# val_loss = history.history['val_loss']\n",
        "# epochs = range(1, len(acc) + 1)\n",
        "# plt.plot(epochs, acc,label='Training Similarity')\n",
        "# plt.plot(epochs, val_acc,label='Validation Similarity')\n",
        "# plt.title(model_name+'_Cosine Similarity')\n",
        "# plt.legend()\n",
        "# plt.savefig('Train_History/'+model_name+'_Pretrain_CS.png')\n",
        "# plt.show()"
      ],
      "outputs": [],
      "execution_count": null,
      "metadata": {},
      "id": "e7474b76"
    },
    {
      "cell_type": "code",
      "source": [
        "# Plot train and validation loss\n",
        "# plt.plot(epochs, loss,label='Training Loss')\n",
        "# plt.plot(epochs, val_loss,label='Validation Loss')\n",
        "# plt.title(model_name+' MSE Loss')\n",
        "# plt.legend()\n",
        "# plt.savefig('Train_History/'+model_name+'_Pretrain_Loss.png')\n",
        "# plt.show()"
      ],
      "outputs": [],
      "execution_count": null,
      "metadata": {},
      "id": "415125c3"
    }
  ],
  "metadata": {
    "jupytext": {
      "cell_metadata_filter": "-all",
      "main_language": "python",
      "notebook_metadata_filter": "-all"
    },
    "kernel_info": {
      "name": "python3"
    },
    "kernelspec": {
      "name": "python3",
      "language": "python",
      "display_name": "Python 3"
    },
    "language_info": {
      "name": "python",
      "version": "3.8.1",
      "mimetype": "text/x-python",
      "codemirror_mode": {
        "name": "ipython",
        "version": 3
      },
      "pygments_lexer": "ipython3",
      "nbconvert_exporter": "python",
      "file_extension": ".py"
    },
    "nteract": {
      "version": "nteract-front-end@1.0.0"
    }
  },
  "nbformat": 4,
  "nbformat_minor": 5
}