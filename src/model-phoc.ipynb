{
 "cells": [
  {
   "cell_type": "code",
   "execution_count": 1,
   "id": "4b5ceeee",
   "metadata": {
    "gather": {
     "logged": 1647259988015
    },
    "lines_to_next_cell": 1
   },
   "outputs": [],
   "source": [
    "from tensorflow.keras.preprocessing.image import ImageDataGenerator\n",
    "from tensorflow.keras.layers import Convolution2D, Dense, Dropout, MaxPooling2D, Flatten\n",
    "from tensorflow.keras.models import load_model, Sequential\n",
    "from tensorflow.keras import losses\n",
    "from tensorflow.keras import backend as K\n",
    "import matplotlib.pyplot as plt\n",
    "from tensorflow_addons.layers import SpatialPyramidPooling2D\n",
    "import numpy as np\n",
    "from imageio import imread\n",
    "import pandas as pd\n",
    "import math\n",
    "import os\n",
    "import tensorflow"
   ]
  },
  {
   "cell_type": "markdown",
   "id": "034cdf86-2130-47ec-bc4c-3ff2f8a3e9db",
   "metadata": {
    "nteract": {
     "transient": {
      "deleting": false
     }
    }
   },
   "source": [
    "## Register logging to save output"
   ]
  },
  {
   "cell_type": "code",
   "execution_count": 2,
   "id": "2cca1b53-33e4-4979-a587-98a0a0dbdea2",
   "metadata": {
    "gather": {
     "logged": 1647259988342
    },
    "jupyter": {
     "outputs_hidden": false,
     "source_hidden": false
    },
    "nteract": {
     "transient": {
      "deleting": false
     }
    }
   },
   "outputs": [],
   "source": [
    "import sys\n",
    "\n",
    "old_stdout = sys.stdout\n",
    "log_file = open(\"training.log\",\"w\")\n",
    "sys.stdout = log_file"
   ]
  },
  {
   "cell_type": "code",
   "execution_count": 3,
   "id": "764b542c",
   "metadata": {
    "gather": {
     "logged": 1647259988608
    },
    "lines_to_next_cell": 1
   },
   "outputs": [],
   "source": [
    "def base_model(img_width, img_height, weight_path=None):\n",
    "    if K.image_data_format() == 'channels_first':\n",
    "        input_shapes = (3, img_width, img_height)\n",
    "    else:\n",
    "        input_shapes = (img_width, img_height, 3)\n",
    "\n",
    "    model = Sequential()\n",
    "    model.add(Convolution2D(64, (3, 3), padding='same',\n",
    "                     activation='relu', input_shape=input_shapes))\n",
    "    model.add(Convolution2D(64, (3, 3), padding='same', activation='relu'))\n",
    "    model.add(Convolution2D(64, (3, 3), padding='same', activation='relu'))\n",
    "    model.add(MaxPooling2D(pool_size=(2, 2), strides=2))\n",
    "    model.add(Convolution2D(128, (3, 3), padding='same', activation='relu'))\n",
    "    model.add(Convolution2D(128, (3, 3), padding='same', activation='relu'))\n",
    "    model.add(MaxPooling2D(pool_size=(2, 2), strides=2))\n",
    "    model.add(Convolution2D(256, (3, 3), padding='same', activation='relu'))\n",
    "    model.add(Convolution2D(256, (3, 3), padding='same', activation='relu'))\n",
    "    model.add(Convolution2D(256, (3, 3), padding='same', activation='relu'))\n",
    "    model.add(Convolution2D(256, (3, 3), padding='same', activation='relu'))\n",
    "    model.add(Convolution2D(256, (3, 3), padding='same', activation='relu'))\n",
    "    model.add(Convolution2D(256, (3, 3), padding='same', activation='relu'))\n",
    "    model.add(Convolution2D(512, (3, 3), padding='same', activation='relu'))\n",
    "    model.add(Convolution2D(512, (3, 3), padding='same', activation='relu'))\n",
    "    model.add(Convolution2D(512, (3, 3), padding='same', activation='relu'))\n",
    "    model.add(SpatialPyramidPooling2D([1, 2, 4]))\n",
    "    model.add(Flatten())\n",
    "    model.add(Dense(4096, activation='relu'))\n",
    "    model.add(Dropout(0.5))\n",
    "    model.add(Dense(4096, activation='relu'))\n",
    "    model.add(Dropout(0.5))\n",
    "    model.add(Dense(830, activation='sigmoid'))\n",
    "    from tensorflow.keras.optimizers import SGD, Adam, Adadelta\n",
    "\n",
    "    loss = losses.binary_crossentropy\n",
    "    optimizer = Adam(learning_rate=1e-4, beta_1=0.9, beta_2=0.999, epsilon=1e-07, decay=5e-5)\n",
    "    model.compile(loss=loss, optimizer=optimizer, metrics=[tensorflow.keras.metrics.CosineSimilarity(axis=1)])\n",
    "    if weight_path:\n",
    "        df = pd.read_pickle(weight_path)\n",
    "        tmp_weights = df.values\n",
    "        N = len(tmp_weights)\n",
    "        weights = []\n",
    "        for i in range(N):\n",
    "            weights.append(tmp_weights[i][0])\n",
    "        model.set_weights(weights)\n",
    "\n",
    "    model.summary()\n",
    "    from keras.utils.vis_utils import plot_model as plot\n",
    "\n",
    "    plot(model, to_file=\"phocnet.png\", show_shapes=True)\n",
    "    return model"
   ]
  },
  {
   "cell_type": "code",
   "execution_count": 4,
   "id": "60e6d1d5",
   "metadata": {
    "gather": {
     "logged": 1647259988877
    },
    "lines_to_next_cell": 1
   },
   "outputs": [],
   "source": [
    "def map(model, x_test, y_test, transcripts):\n",
    "  \"\"\"This module evaluates the partially trained model using Test Data\n",
    "  Args:\n",
    "    model: Instance of Sequential Class storing Neural Network\n",
    "    x_test: Numpy storing the Test Images\n",
    "    y_test: Numpy storing the PHOC Labels of Test Data\n",
    "    transcripts: String storing the characters in the Image.\n",
    "  Returns:\n",
    "    map: Floating number storing the Mean Average Precision.\n",
    "  \"\"\"\n",
    "  y_pred = model.predict(x_test)\n",
    "  y_pred = np.where(y_pred<0.5, 0, 1)\n",
    "  N = len(transcripts)\n",
    "  precision = {}\n",
    "  count = {}\n",
    "  for i in range(N):\n",
    "    if transcripts[i] not in precision.keys():\n",
    "      precision[transcripts[i]] = 1\n",
    "      count[transcripts[i]] = 0\n",
    "    else:\n",
    "      precision[transcripts[i]] += 1\n",
    "\n",
    "  for i in range(N):\n",
    "    pred = y_pred[i]\n",
    "    acc = np.sum(abs(y_test-pred), axis=1)\n",
    "    tmp = np.argmin(acc)\n",
    "    if transcripts[tmp] == transcripts[i]:\n",
    "      count[transcripts[tmp]] += 1\n",
    "\n",
    "  mean_avg_prec = [0, 0]\n",
    "  for i in range(N):\n",
    "    if precision[transcripts[i]] <= 1:\n",
    "      continue\n",
    "    mean_avg_prec[0] += count[transcripts[i]]*1.0/precision[transcripts[i]]\n",
    "    mean_avg_prec[1] += 1\n",
    "\n",
    "  map = mean_avg_prec[0]*1./mean_avg_prec[1]\n",
    "  print (\"The Mean Average Precision = \", map)\n",
    "  print (\"Total test cases = \", N)\n",
    "  return map"
   ]
  },
  {
   "cell_type": "code",
   "execution_count": 5,
   "id": "c8846dff",
   "metadata": {
    "gather": {
     "logged": 1647259989136
    },
    "lines_to_next_cell": 1
   },
   "outputs": [],
   "source": [
    "def get_generator_value(class_indicates, index):\n",
    "    key_list = list(class_indicates.keys())\n",
    "    val_list = list(class_indicates.values())\n",
    "    return key_list[val_list.index(index)]"
   ]
  },
  {
   "cell_type": "code",
   "execution_count": 6,
   "id": "94b500ec",
   "metadata": {
    "gather": {
     "logged": 1647259989382
    }
   },
   "outputs": [],
   "source": [
    "'''This code will take an input word as in string and will\n",
    "output the PHOC label of the word. The Phoc label is a\n",
    "vector of length 3784.\n",
    "((2 + 3 + 4 + 5) * languageCharactersAndNumbersCount) + (2*commonBigram)\n",
    "((2+3+4+5) * 256) + (2*100) = 3784\n",
    "((2+3+4+5) * 45) + (2*100) = 830\n",
    "Reference: https://ieeexplore.ieee.org/document/6857995/?part=1\n",
    "'''\n",
    "\n",
    "def generate_256(word):\n",
    "  '''The vector is a binary and stands for:\n",
    "  https://en.wikipedia.org/wiki/Arabic_script_in_Unicode\n",
    "  arabic unicode characters is 256\n",
    "  '''\n",
    "  generate_256 = [0 for i in range(45)]\n",
    "  for char in word:\n",
    "      generate_256[ord(char) - ord('ا')] = 1\n",
    "\n",
    "  return generate_256\n",
    "\n",
    "def generate_100(word):\n",
    "  '''This vector is going to count the number of most frequent\n",
    "  bigram words found in the text\n",
    "  '''\n",
    "\n",
    "  bigram = ['لم', 'لل', 'ين', 'لت', 'لي', 'يت', 'لع', 'هم', 'لن', 'تم', 'في', 'عل',\n",
    "            'لب', 'ست', 'بي', 'يم', 'مت', 'ته', 'لح', 'لق', 'ما', 'لف', 'من', 'ها',\n",
    "            'له', 'كم', 'يس', 'مل', 'بت', 'لك', 'نا', 'لس', 'يب', 'بع', 'مس', 'سب',\n",
    "            'يع', 'تح', 'يل', 'فت', 'فل', 'مع', 'تع', 'لا', 'تن', 'تب', 'يح', 'يه',\n",
    "            'لج', 'فع', 'سم', 'تق', 'لش', 'ير', 'ني', 'يك', 'لو', 'مي', 'بم', 'نف',\n",
    "            'مح', 'تف', 'عن', 'لخ', 'سي', 'يق', 'قت', 'يف', 'حي', 'نص', 'عم', 'جم',\n",
    "            'به', 'بل', 'كت', 'نه', 'صي', 'نت', 'نق', 'تل', 'خل', 'لغ', 'لص', 'تك',\n",
    "            'با', 'تس', 'يا', 'نب', 'قب', 'مو', 'حم', 'عت', 'قل', 'يخ', 'عي', 'قي',\n",
    "            'مه', 'نس', 'تا', 'سن']\n",
    "\n",
    "  vector_100 = [0 for i in range(100)]\n",
    "  for char in word:\n",
    "    try:\n",
    "      vector_100[bigram.index(char)] = 1\n",
    "    except:\n",
    "      continue\n",
    "\n",
    "  return vector_100\n",
    "\n",
    "def generate_label(word):\n",
    "  word = word.lower()\n",
    "  vector = []\n",
    "  L = len(word)\n",
    "  for split in range(2, 6):\n",
    "    parts = L//split\n",
    "    for mul in range(split-1):\n",
    "      vector += generate_256(word[mul*parts:mul*parts+parts])\n",
    "    vector += generate_256(word[(split-1)*parts:L])\n",
    "\n",
    "  # Append the most common 100 bigram text using L2 split\n",
    "  vector += generate_100(word[0:L//2])\n",
    "  vector += generate_100(word[L//2: L])\n",
    "  return vector"
   ]
  },
  {
   "cell_type": "markdown",
   "id": "26b296a7-95fd-46ad-aa6e-565c69595f9f",
   "metadata": {
    "nteract": {
     "transient": {
      "deleting": false
     }
    }
   },
   "source": [
    "# prepate the data"
   ]
  },
  {
   "cell_type": "code",
   "execution_count": 7,
   "id": "965c6809",
   "metadata": {
    "gather": {
     "logged": 1647259989641
    }
   },
   "outputs": [],
   "source": [
    "train_path = 'dataset/train'\n",
    "test_path = 'dataset/test'\n",
    "val_path = 'dataset/val'\n",
    "\n",
    "train_datagen = ImageDataGenerator()"
   ]
  },
  {
   "cell_type": "code",
   "execution_count": 8,
   "id": "591bc6d3",
   "metadata": {
    "gather": {
     "logged": 1647259989864
    }
   },
   "outputs": [],
   "source": [
    "#val_datagen = ImageDataGenerator(rescale=1. / 255.)\n",
    "val_datagen = ImageDataGenerator()"
   ]
  },
  {
   "cell_type": "code",
   "execution_count": 9,
   "id": "db948ba5",
   "metadata": {
    "gather": {
     "logged": 1647259990089
    }
   },
   "outputs": [],
   "source": [
    "test_datagen = ImageDataGenerator()"
   ]
  },
  {
   "cell_type": "code",
   "execution_count": 10,
   "id": "0d87700f",
   "metadata": {
    "gather": {
     "logged": 1647260057088
    }
   },
   "outputs": [],
   "source": [
    "train_generator = train_datagen.flow_from_directory(\n",
    "        # This is the target directory\n",
    "        train_path,\n",
    "        shuffle= False,\n",
    "        # All images will be resized to 150x150\n",
    "        target_size=(16, 16),\n",
    "        batch_size=1,\n",
    "        # binary: use binary_crossentropy loss, we need binary labels\n",
    "        # categorical : use categorical_crossentropy loss, then need categorical labels\n",
    "        class_mode='binary')"
   ]
  },
  {
   "cell_type": "code",
   "execution_count": 11,
   "id": "fea411c2",
   "metadata": {
    "gather": {
     "logged": 1647260107802
    }
   },
   "outputs": [],
   "source": [
    "val_generator = train_datagen.flow_from_directory(\n",
    "        # This is the target directory\n",
    "        val_path,\n",
    "        shuffle= False,\n",
    "        target_size=(16, 16),\n",
    "        batch_size=1,\n",
    "        class_mode='binary')"
   ]
  },
  {
   "cell_type": "code",
   "execution_count": 12,
   "id": "0fa8f7ac",
   "metadata": {
    "gather": {
     "logged": 1647260159728
    }
   },
   "outputs": [],
   "source": [
    "test_generator = test_datagen.flow_from_directory(\n",
    "        test_path,\n",
    "        shuffle= False,\n",
    "        target_size=(16, 16),\n",
    "        batch_size=1,\n",
    "        class_mode='binary')"
   ]
  },
  {
   "cell_type": "code",
   "execution_count": null,
   "id": "122b91d5",
   "metadata": {},
   "outputs": [],
   "source": [
    "train_generator.reset()\n",
    "y_train = train_generator.labels\n",
    "X_train = [np.array(tensorflow.image.resize(imread(train_path + '/' + file), [110,110])) for file in train_generator.filenames]\n",
    "X_train = np.array(X_train)\n",
    "\n",
    "val_generator.reset()\n",
    "y_val = val_generator.labels\n",
    "X_val = [np.array(tensorflow.image.resize(imread(val_path + '/' + file), [110,110])) for file in val_generator.filenames]\n",
    "X_val = np.array(X_val)\n",
    "\n",
    "test_generator.reset()\n",
    "y_test = test_generator.labels\n",
    "X_test = [np.array(tensorflow.image.resize(imread(test_path + '/' + file), [110,110])) for file in test_generator.filenames]\n",
    "X_test = np.array(X_test)\n",
    "\n",
    "print('Data has been loaded')"
   ]
  },
  {
   "cell_type": "code",
   "execution_count": null,
   "id": "5142b976",
   "metadata": {},
   "outputs": [],
   "source": [
    "# num_of_classes = len(train_generator.class_indices)\n",
    "test_transcripts = [get_generator_value(test_generator.class_indices, int(i)) for i in y_test]\n",
    "test_transcripts = np.array(test_transcripts)\n",
    "y_train = [generate_label(get_generator_value(train_generator.class_indices, int(i))) for i in y_train]\n",
    "y_train = np.array(y_train)\n",
    "y_val = [generate_label(get_generator_value(val_generator.class_indices, int(i))) for i in y_val]\n",
    "y_val = np.array(y_val)\n",
    "y_test = [generate_label(get_generator_value(test_generator.class_indices, int(i))) for i in y_test]\n",
    "y_test = np.array(y_test)"
   ]
  },
  {
   "cell_type": "code",
   "execution_count": null,
   "id": "d63785f8",
   "metadata": {},
   "outputs": [],
   "source": [
    "weight_path = 'phoc_weights.pkl'\n",
    "if os.path.exists(weight_path):\n",
    "    model = base_model(110, 110, weight_path= weight_path)\n",
    "else:\n",
    "    model = base_model(110, 110)\n",
    "batch_size = 50"
   ]
  },
  {
   "cell_type": "markdown",
   "id": "5f521994-3053-4c91-b316-851035e4589e",
   "metadata": {
    "nteract": {
     "transient": {
      "deleting": false
     }
    }
   },
   "source": [
    "# Train the data"
   ]
  },
  {
   "cell_type": "code",
   "execution_count": null,
   "id": "3f96f7cf",
   "metadata": {},
   "outputs": [],
   "source": [
    "map_max = 0\n",
    "for i in range(100):\n",
    "    model.fit(\n",
    "        X_train, y_train,\n",
    "        steps_per_epoch=math.ceil(train_generator.samples//batch_size),\n",
    "        batch_size=batch_size,\n",
    "        epochs=1,\n",
    "        shuffle= True,\n",
    "        validation_data=(X_val, y_val),\n",
    "        validation_steps=math.ceil(val_generator.samples//batch_size),\n",
    "        verbose=1)\n",
    "\n",
    "    map_value = map(model, X_test, y_test, test_transcripts) # Calculates the MAP of the model\n",
    "    # save the model\n",
    "    if map_value > map_max:\n",
    "        map_max = map_value\n",
    "        weights = model.get_weights()\n",
    "        df = pd.DataFrame(weights)\n",
    "        print(\"Saving the best model.......\")\n",
    "        model.save('phoc-model.h5')\n",
    "        df.to_pickle('phoc_weights.pkl')"
   ]
  },
  {
   "cell_type": "markdown",
   "id": "4978f94f-3b33-420e-aaf2-93bf83b8b00a",
   "metadata": {
    "nteract": {
     "transient": {
      "deleting": false
     }
    }
   },
   "source": [
    "close logging"
   ]
  },
  {
   "cell_type": "code",
   "execution_count": null,
   "id": "4cb21fcc-9fff-4a00-ab1e-9aeb439a548d",
   "metadata": {
    "jupyter": {
     "outputs_hidden": false,
     "source_hidden": false
    },
    "nteract": {
     "transient": {
      "deleting": false
     }
    }
   },
   "outputs": [],
   "source": [
    "sys.stdout = old_stdout\n",
    "log_file.close()"
   ]
  },
  {
   "cell_type": "markdown",
   "id": "8d2bb7b2",
   "metadata": {},
   "source": [
    "Create directory to store training history"
   ]
  },
  {
   "cell_type": "code",
   "execution_count": null,
   "id": "9b0ab6e4",
   "metadata": {},
   "outputs": [],
   "source": [
    "#if not os.path.exists(\"Train_History\"):\n",
    "#    os.makedirs(\"Train_History\")"
   ]
  },
  {
   "cell_type": "code",
   "execution_count": null,
   "id": "f41616a4",
   "metadata": {},
   "outputs": [],
   "source": [
    "# Store train history as CSV file\n",
    "# model_name=\"phoc-model\"\n",
    "# hist_df = pd.DataFrame(history.history)\n",
    "# hist_csv_file = 'Train_History/history_'+model_name+'.csv'\n",
    "# with open(hist_csv_file, mode='w') as f:\n",
    "#     hist_df.to_csv(f)"
   ]
  },
  {
   "cell_type": "markdown",
   "id": "c0d262f0",
   "metadata": {},
   "source": [
    "Plot train and validation accuracy(avg cosine similarity)"
   ]
  },
  {
   "cell_type": "code",
   "execution_count": null,
   "id": "e7474b76",
   "metadata": {},
   "outputs": [],
   "source": [
    "# acc = history.history['cosine_similarity']\n",
    "# val_acc = history.history['val_cosine_similarity']\n",
    "# loss = history.history['loss']\n",
    "# val_loss = history.history['val_loss']\n",
    "# epochs = range(1, len(acc) + 1)\n",
    "# plt.plot(epochs, acc,label='Training Similarity')\n",
    "# plt.plot(epochs, val_acc,label='Validation Similarity')\n",
    "# plt.title(model_name+'_Cosine Similarity')\n",
    "# plt.legend()\n",
    "# plt.savefig('Train_History/'+model_name+'_Pretrain_CS.png')\n",
    "# plt.show()"
   ]
  },
  {
   "cell_type": "code",
   "execution_count": null,
   "id": "415125c3",
   "metadata": {},
   "outputs": [],
   "source": [
    "# Plot train and validation loss\n",
    "# plt.plot(epochs, loss,label='Training Loss')\n",
    "# plt.plot(epochs, val_loss,label='Validation Loss')\n",
    "# plt.title(model_name+' MSE Loss')\n",
    "# plt.legend()\n",
    "# plt.savefig('Train_History/'+model_name+'_Pretrain_Loss.png')\n",
    "# plt.show()"
   ]
  }
 ],
 "metadata": {
  "jupytext": {
   "cell_metadata_filter": "-all",
   "main_language": "python",
   "notebook_metadata_filter": "-all"
  },
  "kernel_info": {
   "name": "python38-azureml"
  },
  "kernelspec": {
   "display_name": "Python 3 (ipykernel)",
   "language": "python",
   "name": "python3"
  },
  "language_info": {
   "codemirror_mode": {
    "name": "ipython",
    "version": 3
   },
   "file_extension": ".py",
   "mimetype": "text/x-python",
   "name": "python",
   "nbconvert_exporter": "python",
   "pygments_lexer": "ipython3",
   "version": "3.9.0"
  },
  "nteract": {
   "version": "nteract-front-end@1.0.0"
  }
 },
 "nbformat": 4,
 "nbformat_minor": 5
}
